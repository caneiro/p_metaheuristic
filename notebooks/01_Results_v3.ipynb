{
 "cells": [
  {
   "cell_type": "markdown",
   "id": "sublime-clock",
   "metadata": {},
   "source": [
    "# LOCAL SEARCH - ANÁLISE DE RESULTADOS\n",
    "\n",
    " - ITA | PG-CTE-S | TE-282 - Meta-heurísticas\n",
    " - Professor Dr. Angelo Passaro\n",
    " - Aluno: Rafael Caneiro de Oliveira\n",
    " - Versao: 0.1\n",
    " - Data: 26/10/2021"
   ]
  },
  {
   "cell_type": "markdown",
   "id": "popular-garlic",
   "metadata": {},
   "source": [
    "## Bibliotecas | Parâmetros | Funções"
   ]
  },
  {
   "cell_type": "code",
   "execution_count": 41,
   "id": "dac73a11",
   "metadata": {
    "ExecuteTime": {
     "end_time": "2021-10-31T03:08:30.893148Z",
     "start_time": "2021-10-31T03:08:30.889405Z"
    },
    "scrolled": false
   },
   "outputs": [
    {
     "name": "stdout",
     "output_type": "stream",
     "text": [
      "/Users/rco/OneDrive/ITA/Mestrado/2021_TE-282 - Meta heurísticas/P-MetaHeuristica/p_metaheuristic/data/log\n"
     ]
    }
   ],
   "source": [
    "import numpy as np\n",
    "import pandas as pd\n",
    "pd.set_option('display.max_columns', 999)\n",
    "pd.set_option('display.max_rows', 999)\n",
    "\n",
    "import matplotlib.pyplot as plt\n",
    "import seaborn as sns\n",
    "from pathlib import Path\n",
    "import glob\n",
    "from ast import literal_eval\n",
    "from tqdm.auto import tqdm\n",
    "import ray\n",
    "import os\n",
    "\n",
    "np.random.seed=42\n",
    "\n",
    "PATH = Path.cwd().parent\n",
    "RAW_PATH = Path(PATH, \"./data/raw/\") \n",
    "LOG_PATH = Path(PATH, \"./data/log/\")\n",
    "print(LOG_PATH)\n"
   ]
  },
  {
   "cell_type": "code",
   "execution_count": 42,
   "id": "boolean-workplace",
   "metadata": {
    "ExecuteTime": {
     "end_time": "2021-10-31T03:08:30.901583Z",
     "start_time": "2021-10-31T03:08:30.895055Z"
    }
   },
   "outputs": [],
   "source": [
    "def read_port_files(n_port):\n",
    "    filepath = Path(RAW_PATH, 'port' + str(n_port) + '.txt')\n",
    "    with open(filepath) as fp:\n",
    "        # quantidade de ativos no portfolio\n",
    "        n_assets = int(fp.readline())\n",
    "        # armazena as estatisticas do ativo\n",
    "        r_mean = []\n",
    "        r_std = []\n",
    "        for n in range(n_assets):\n",
    "            line = fp.readline()\n",
    "            r_mean.append(float(line.strip().split()[0]))\n",
    "            r_std.append(float(line.strip().split()[1]))\n",
    "\n",
    "        # obtem o restante da matriz de covariancia\n",
    "        cnt = 32\n",
    "        i = []\n",
    "        j = []\n",
    "        cov = []\n",
    "        line = fp.readline()\n",
    "        while line:\n",
    "            i.append(int(line.strip().split(' ')[0]))\n",
    "            j.append(int(line.strip().split(' ')[1]))\n",
    "            cov.append(float(line.strip().split(' ')[2]))\n",
    "            line = fp.readline()\n",
    "    fp.close()\n",
    "    # retorna dataframe com estatisticas dos ativos do portfolio\n",
    "    df_stats = pd.DataFrame({'port':n_port,\n",
    "                             'i':[i_+1 for i_ in range(n_assets)],\n",
    "                             'r_mean':r_mean,\n",
    "                             'r_std':r_std})\n",
    "    print(df_stats.shape)\n",
    "\n",
    "    # retorna dataframe com matriz de covariancia dos ativos do portfolio\n",
    "    df_cov_mx = pd.DataFrame({'port':n_port,\n",
    "                             'i':i,\n",
    "                             'j':j,\n",
    "                             'cov':cov})\n",
    "    print(df_cov_mx.shape)\n",
    "    return df_stats, df_cov_mx"
   ]
  },
  {
   "cell_type": "markdown",
   "id": "legislative-leisure",
   "metadata": {},
   "source": [
    "## Carrega Dados"
   ]
  },
  {
   "cell_type": "code",
   "execution_count": 43,
   "id": "above-programming",
   "metadata": {
    "ExecuteTime": {
     "end_time": "2021-10-31T03:08:31.008947Z",
     "start_time": "2021-10-31T03:08:30.904027Z"
    }
   },
   "outputs": [
    {
     "name": "stdout",
     "output_type": "stream",
     "text": [
      "(31, 4)\n",
      "(496, 4)\n",
      "(85, 4)\n",
      "(3655, 4)\n",
      "(89, 4)\n",
      "(4005, 4)\n",
      "(98, 4)\n",
      "(4851, 4)\n",
      "(225, 4)\n",
      "(25425, 4)\n"
     ]
    }
   ],
   "source": [
    "df_stats_list = []\n",
    "df_cov_mx_list =[]\n",
    "for p in range(1,6,1):\n",
    "    df_stats, df_cov_mx = read_port_files(p)\n",
    "    df_stats_list.append(df_stats)\n",
    "    df_cov_mx_list.append(df_cov_mx)\n",
    "    \n",
    "df_stats = pd.concat(df_stats_list)\n",
    "df_cov_mx = pd.concat(df_cov_mx_list)"
   ]
  },
  {
   "cell_type": "code",
   "execution_count": 44,
   "id": "likely-creature",
   "metadata": {
    "ExecuteTime": {
     "end_time": "2021-10-31T03:08:38.145537Z",
     "start_time": "2021-10-31T03:08:38.139516Z"
    }
   },
   "outputs": [],
   "source": [
    "portfolios = {\n",
    "    1:'Hang Seng - Hong Kong',\n",
    "    2:'DAX - German Blue Chips',\n",
    "    3:'FTSE - London',\n",
    "    4:\"S&P - Standard and Poor's 500 - US\",\n",
    "    5:'Nikkei - Tokyo'\n",
    "}\n",
    "df_stats['portfolio'] = df_stats.port.map(portfolios)\n",
    "df_cov_mx['portfolio'] = df_cov_mx.port.map(portfolios)"
   ]
  },
  {
   "cell_type": "code",
   "execution_count": 45,
   "id": "0fc29af9",
   "metadata": {},
   "outputs": [
    {
     "data": {
      "text/html": [
       "<div>\n",
       "<style scoped>\n",
       "    .dataframe tbody tr th:only-of-type {\n",
       "        vertical-align: middle;\n",
       "    }\n",
       "\n",
       "    .dataframe tbody tr th {\n",
       "        vertical-align: top;\n",
       "    }\n",
       "\n",
       "    .dataframe thead th {\n",
       "        text-align: right;\n",
       "    }\n",
       "</style>\n",
       "<table border=\"1\" class=\"dataframe\">\n",
       "  <thead>\n",
       "    <tr style=\"text-align: right;\">\n",
       "      <th></th>\n",
       "      <th>mean_return</th>\n",
       "      <th>var_return</th>\n",
       "      <th>port</th>\n",
       "      <th>portfolio</th>\n",
       "    </tr>\n",
       "  </thead>\n",
       "  <tbody>\n",
       "    <tr>\n",
       "      <th>0</th>\n",
       "      <td>0.010865</td>\n",
       "      <td>0.004776</td>\n",
       "      <td>1</td>\n",
       "      <td>Hang Seng - Hong Kong</td>\n",
       "    </tr>\n",
       "    <tr>\n",
       "      <th>1</th>\n",
       "      <td>0.010861</td>\n",
       "      <td>0.004768</td>\n",
       "      <td>1</td>\n",
       "      <td>Hang Seng - Hong Kong</td>\n",
       "    </tr>\n",
       "    <tr>\n",
       "      <th>2</th>\n",
       "      <td>0.010857</td>\n",
       "      <td>0.004760</td>\n",
       "      <td>1</td>\n",
       "      <td>Hang Seng - Hong Kong</td>\n",
       "    </tr>\n",
       "    <tr>\n",
       "      <th>3</th>\n",
       "      <td>0.010853</td>\n",
       "      <td>0.004752</td>\n",
       "      <td>1</td>\n",
       "      <td>Hang Seng - Hong Kong</td>\n",
       "    </tr>\n",
       "    <tr>\n",
       "      <th>4</th>\n",
       "      <td>0.010849</td>\n",
       "      <td>0.004745</td>\n",
       "      <td>1</td>\n",
       "      <td>Hang Seng - Hong Kong</td>\n",
       "    </tr>\n",
       "  </tbody>\n",
       "</table>\n",
       "</div>"
      ],
      "text/plain": [
       "   mean_return  var_return  port              portfolio\n",
       "0     0.010865    0.004776     1  Hang Seng - Hong Kong\n",
       "1     0.010861    0.004768     1  Hang Seng - Hong Kong\n",
       "2     0.010857    0.004760     1  Hang Seng - Hong Kong\n",
       "3     0.010853    0.004752     1  Hang Seng - Hong Kong\n",
       "4     0.010849    0.004745     1  Hang Seng - Hong Kong"
      ]
     },
     "execution_count": 45,
     "metadata": {},
     "output_type": "execute_result"
    }
   ],
   "source": [
    "uefs = []\n",
    "for port in range(5):\n",
    "    uef = pd.read_csv(Path(RAW_PATH, 'portef' + str(port+1) + '.txt'), header=None, sep='\\s+')\n",
    "    uef.columns = ['mean_return', 'var_return']\n",
    "    uef['port'] = port + 1\n",
    "    uefs.append(uef)\n",
    "uef = pd.concat(uefs, ignore_index=True).reset_index(drop=True)\n",
    "uef['portfolio'] = uef.port.map(portfolios)\n",
    "uef.head()"
   ]
  },
  {
   "cell_type": "code",
   "execution_count": 46,
   "id": "surprised-pastor",
   "metadata": {
    "ExecuteTime": {
     "end_time": "2021-10-31T03:08:37.806127Z",
     "start_time": "2021-10-31T03:08:31.011392Z"
    }
   },
   "outputs": [
    {
     "name": "stdout",
     "output_type": "stream",
     "text": [
      "\u001b[2m\u001b[36m(import_logs pid=55637)\u001b[0m \n",
      "\u001b[2m\u001b[36m(import_logs pid=56192)\u001b[0m \n",
      "\u001b[2m\u001b[36m(import_logs pid=56202)\u001b[0m \n",
      "\u001b[2m\u001b[36m(import_logs pid=56210)\u001b[0m \n",
      "\u001b[2m\u001b[36m(import_logs pid=55637)\u001b[0m \n",
      "\u001b[2m\u001b[36m(import_logs pid=56206)\u001b[0m \n",
      "\u001b[2m\u001b[36m(import_logs pid=56209)\u001b[0m \n"
     ]
    }
   ],
   "source": [
    "@ray.remote\n",
    "def import_logs(filename):\n",
    "    try:\n",
    "        file_path = Path(LOG_PATH, filename)\n",
    "        df = pd.read_csv(file_path, low_memory=False)\n",
    "        df['filename'] = filename\n",
    "        # df = df[df.Q>1]\n",
    "        df.loc[df[-1:].index, 'last_iter'] = 1\n",
    "    except:\n",
    "        print(filename)\n",
    "\n",
    "    return df\n",
    "\n",
    "# ray.init(num_cpus=16)\n",
    "\n",
    "futures = [import_logs.remote(filename) for filename in os.listdir(LOG_PATH) if filename != '.DS_Store']\n",
    "dfs = ray.get(futures)\n"
   ]
  },
  {
   "cell_type": "code",
   "execution_count": 47,
   "id": "658d4172",
   "metadata": {},
   "outputs": [
    {
     "name": "stdout",
     "output_type": "stream",
     "text": [
      "(1069975, 18)\n",
      "(1061, 18)\n"
     ]
    }
   ],
   "source": [
    "all_data = pd.concat(dfs, ignore_index=True)\n",
    "all_data.reset_index(drop=True, inplace=True)\n",
    "print(all_data.shape)\n",
    "best_data = all_data[all_data.last_iter==1]\n",
    "print(best_data.shape)"
   ]
  },
  {
   "cell_type": "code",
   "execution_count": 48,
   "id": "0dd24cc6",
   "metadata": {},
   "outputs": [
    {
     "name": "stdout",
     "output_type": "stream",
     "text": [
      "<class 'pandas.core.frame.DataFrame'>\n",
      "RangeIndex: 1069975 entries, 0 to 1069974\n",
      "Data columns (total 18 columns):\n",
      " #   Column        Non-Null Count    Dtype  \n",
      "---  ------        --------------    -----  \n",
      " 0   iter          1069975 non-null  int64  \n",
      " 1   cost          1069975 non-null  float64\n",
      " 2   risk          1069975 non-null  float64\n",
      " 3   return        1069975 non-null  float64\n",
      " 4   X             1069975 non-null  object \n",
      " 5   Z             1069975 non-null  object \n",
      " 6   Q             1069975 non-null  float64\n",
      " 7   max_iter      1069975 non-null  int64  \n",
      " 8   pop_size      1069975 non-null  int64  \n",
      " 9   mem_consider  1069975 non-null  float64\n",
      " 10  pitch_adj     1069975 non-null  float64\n",
      " 11  alpha         1069975 non-null  float64\n",
      " 12  lambda        1069975 non-null  float64\n",
      " 13  port_n        1069975 non-null  int64  \n",
      " 14  k             1069975 non-null  int64  \n",
      " 15  seed          0 non-null        float64\n",
      " 16  filename      1069975 non-null  object \n",
      " 17  last_iter     1061 non-null     float64\n",
      "dtypes: float64(10), int64(5), object(3)\n",
      "memory usage: 146.9+ MB\n"
     ]
    }
   ],
   "source": [
    "all_data.info()"
   ]
  },
  {
   "cell_type": "markdown",
   "id": "signed-papua",
   "metadata": {},
   "source": [
    "## Portfólios"
   ]
  },
  {
   "cell_type": "markdown",
   "id": "9f3d0186",
   "metadata": {},
   "source": [
    "### Geral"
   ]
  },
  {
   "cell_type": "code",
   "execution_count": 49,
   "id": "available-renewal",
   "metadata": {
    "ExecuteTime": {
     "end_time": "2021-10-31T03:08:38.400788Z",
     "start_time": "2021-10-31T03:08:38.147553Z"
    }
   },
   "outputs": [
    {
     "data": {
      "image/png": "[encoded data removed]",
      "text/plain": [
       "<Figure size 864x288 with 2 Axes>"
      ]
     },
     "metadata": {
      "needs_background": "light"
     },
     "output_type": "display_data"
    }
   ],
   "source": [
    "fig, ax = plt.subplots(1, 2, figsize=(12,4), gridspec_kw={'width_ratios': [1, 1.5]})\n",
    "sns.countplot(data=df_stats, y='portfolio', ax=ax[0])\n",
    "ax[0].title.set_text('Qtd de Ativos')\n",
    "sns.boxplot(data=df_stats, y='portfolio', x='r_mean', ax=ax[1])\n",
    "ax[1].title.set_text(\"Retorno Médio\")\n",
    "ax[1].get_yaxis().set_ticks([])\n",
    "ax[1].set_ylabel('')\n",
    "fig.tight_layout()"
   ]
  },
  {
   "cell_type": "code",
   "execution_count": 50,
   "id": "c7fd82a1",
   "metadata": {},
   "outputs": [
    {
     "data": {
      "text/html": [
       "<div>\n",
       "<style scoped>\n",
       "    .dataframe tbody tr th:only-of-type {\n",
       "        vertical-align: middle;\n",
       "    }\n",
       "\n",
       "    .dataframe tbody tr th {\n",
       "        vertical-align: top;\n",
       "    }\n",
       "\n",
       "    .dataframe thead th {\n",
       "        text-align: right;\n",
       "    }\n",
       "</style>\n",
       "<table border=\"1\" class=\"dataframe\">\n",
       "  <thead>\n",
       "    <tr style=\"text-align: right;\">\n",
       "      <th></th>\n",
       "      <th>count</th>\n",
       "      <th>mean</th>\n",
       "      <th>std</th>\n",
       "      <th>min</th>\n",
       "      <th>25%</th>\n",
       "      <th>50%</th>\n",
       "      <th>75%</th>\n",
       "      <th>max</th>\n",
       "    </tr>\n",
       "  </thead>\n",
       "  <tbody>\n",
       "    <tr>\n",
       "      <th>port</th>\n",
       "      <td>31.0</td>\n",
       "      <td>1.000000</td>\n",
       "      <td>0.000000</td>\n",
       "      <td>1.000000</td>\n",
       "      <td>1.000000</td>\n",
       "      <td>1.000000</td>\n",
       "      <td>1.000000</td>\n",
       "      <td>1.000000</td>\n",
       "    </tr>\n",
       "    <tr>\n",
       "      <th>i</th>\n",
       "      <td>31.0</td>\n",
       "      <td>16.000000</td>\n",
       "      <td>9.092121</td>\n",
       "      <td>1.000000</td>\n",
       "      <td>8.500000</td>\n",
       "      <td>16.000000</td>\n",
       "      <td>23.500000</td>\n",
       "      <td>31.000000</td>\n",
       "    </tr>\n",
       "    <tr>\n",
       "      <th>r_mean</th>\n",
       "      <td>31.0</td>\n",
       "      <td>0.003504</td>\n",
       "      <td>0.002186</td>\n",
       "      <td>0.000141</td>\n",
       "      <td>0.002043</td>\n",
       "      <td>0.003286</td>\n",
       "      <td>0.004725</td>\n",
       "      <td>0.010865</td>\n",
       "    </tr>\n",
       "    <tr>\n",
       "      <th>r_std</th>\n",
       "      <td>31.0</td>\n",
       "      <td>0.045723</td>\n",
       "      <td>0.007296</td>\n",
       "      <td>0.035848</td>\n",
       "      <td>0.040043</td>\n",
       "      <td>0.045450</td>\n",
       "      <td>0.050112</td>\n",
       "      <td>0.069105</td>\n",
       "    </tr>\n",
       "  </tbody>\n",
       "</table>\n",
       "</div>"
      ],
      "text/plain": [
       "        count       mean       std       min       25%        50%        75%  \\\n",
       "port     31.0   1.000000  0.000000  1.000000  1.000000   1.000000   1.000000   \n",
       "i        31.0  16.000000  9.092121  1.000000  8.500000  16.000000  23.500000   \n",
       "r_mean   31.0   0.003504  0.002186  0.000141  0.002043   0.003286   0.004725   \n",
       "r_std    31.0   0.045723  0.007296  0.035848  0.040043   0.045450   0.050112   \n",
       "\n",
       "              max  \n",
       "port     1.000000  \n",
       "i       31.000000  \n",
       "r_mean   0.010865  \n",
       "r_std    0.069105  "
      ]
     },
     "execution_count": 50,
     "metadata": {},
     "output_type": "execute_result"
    }
   ],
   "source": [
    "df_stats[df_stats.port==1].describe().T"
   ]
  },
  {
   "cell_type": "markdown",
   "id": "2420142b",
   "metadata": {},
   "source": [
    "### Matriz de Covariância"
   ]
  },
  {
   "cell_type": "code",
   "execution_count": 51,
   "id": "ed750ac4",
   "metadata": {},
   "outputs": [
    {
     "data": {
      "text/html": [
       "<div>\n",
       "<style scoped>\n",
       "    .dataframe tbody tr th:only-of-type {\n",
       "        vertical-align: middle;\n",
       "    }\n",
       "\n",
       "    .dataframe tbody tr th {\n",
       "        vertical-align: top;\n",
       "    }\n",
       "\n",
       "    .dataframe thead th {\n",
       "        text-align: right;\n",
       "    }\n",
       "</style>\n",
       "<table border=\"1\" class=\"dataframe\">\n",
       "  <thead>\n",
       "    <tr style=\"text-align: right;\">\n",
       "      <th></th>\n",
       "      <th>count</th>\n",
       "      <th>mean</th>\n",
       "      <th>std</th>\n",
       "      <th>min</th>\n",
       "      <th>25%</th>\n",
       "      <th>50%</th>\n",
       "      <th>75%</th>\n",
       "      <th>max</th>\n",
       "    </tr>\n",
       "  </thead>\n",
       "  <tbody>\n",
       "    <tr>\n",
       "      <th>port</th>\n",
       "      <td>37904.0</td>\n",
       "      <td>4.336350</td>\n",
       "      <td>1.068738</td>\n",
       "      <td>1.000000</td>\n",
       "      <td>4.000000</td>\n",
       "      <td>5.000000</td>\n",
       "      <td>5.00000</td>\n",
       "      <td>5.000000</td>\n",
       "    </tr>\n",
       "    <tr>\n",
       "      <th>i</th>\n",
       "      <td>37904.0</td>\n",
       "      <td>60.152728</td>\n",
       "      <td>49.736086</td>\n",
       "      <td>1.000000</td>\n",
       "      <td>20.000000</td>\n",
       "      <td>46.000000</td>\n",
       "      <td>88.00000</td>\n",
       "      <td>224.000000</td>\n",
       "    </tr>\n",
       "    <tr>\n",
       "      <th>j</th>\n",
       "      <td>37904.0</td>\n",
       "      <td>120.305456</td>\n",
       "      <td>62.150969</td>\n",
       "      <td>2.000000</td>\n",
       "      <td>68.000000</td>\n",
       "      <td>113.000000</td>\n",
       "      <td>178.00000</td>\n",
       "      <td>225.000000</td>\n",
       "    </tr>\n",
       "    <tr>\n",
       "      <th>cov</th>\n",
       "      <td>37904.0</td>\n",
       "      <td>0.388782</td>\n",
       "      <td>0.166550</td>\n",
       "      <td>-0.145815</td>\n",
       "      <td>0.258983</td>\n",
       "      <td>0.419793</td>\n",
       "      <td>0.51717</td>\n",
       "      <td>0.909412</td>\n",
       "    </tr>\n",
       "  </tbody>\n",
       "</table>\n",
       "</div>"
      ],
      "text/plain": [
       "        count        mean        std       min        25%         50%  \\\n",
       "port  37904.0    4.336350   1.068738  1.000000   4.000000    5.000000   \n",
       "i     37904.0   60.152728  49.736086  1.000000  20.000000   46.000000   \n",
       "j     37904.0  120.305456  62.150969  2.000000  68.000000  113.000000   \n",
       "cov   37904.0    0.388782   0.166550 -0.145815   0.258983    0.419793   \n",
       "\n",
       "            75%         max  \n",
       "port    5.00000    5.000000  \n",
       "i      88.00000  224.000000  \n",
       "j     178.00000  225.000000  \n",
       "cov     0.51717    0.909412  "
      ]
     },
     "execution_count": 51,
     "metadata": {},
     "output_type": "execute_result"
    }
   ],
   "source": [
    "df_cov_mx[df_cov_mx.i!=df_cov_mx.j].describe().T"
   ]
  },
  {
   "cell_type": "code",
   "execution_count": 52,
   "id": "ed750ac4",
   "metadata": {},
   "outputs": [
    {
     "data": {
      "text/plain": [
       "<AxesSubplot:>"
      ]
     },
     "execution_count": 52,
     "metadata": {},
     "output_type": "execute_result"
    },
    {
     "data": {
      "image/png": "[encoded data removed]",
      "text/plain": [
       "<Figure size 432x288 with 1 Axes>"
      ]
     },
     "metadata": {
      "needs_background": "light"
     },
     "output_type": "display_data"
    }
   ],
   "source": [
    "df_cov_mx[df_cov_mx.i!=df_cov_mx.j]['cov'].hist()"
   ]
  },
  {
   "cell_type": "code",
   "execution_count": 53,
   "id": "little-quebec",
   "metadata": {
    "ExecuteTime": {
     "end_time": "2021-10-31T03:08:38.695099Z",
     "start_time": "2021-10-31T03:08:38.402269Z"
    }
   },
   "outputs": [
    {
     "data": {
      "image/png": "[encoded data removed]",
      "text/plain": [
       "<Figure size 432x288 with 2 Axes>"
      ]
     },
     "metadata": {
      "needs_background": "light"
     },
     "output_type": "display_data"
    }
   ],
   "source": [
    "portfolio = 1\n",
    "df_cov_pivot = df_cov_mx[df_cov_mx.port==portfolio].pivot(index='i', columns='j', values='cov')\n",
    "sns.heatmap(df_cov_pivot.iloc[::-1], cmap=\"YlGnBu\") \n",
    "plt.title(portfolios[portfolio])\n",
    "ax=ax"
   ]
  },
  {
   "cell_type": "markdown",
   "id": "00f6f67c",
   "metadata": {},
   "source": [
    "### Fronteiras de Eficiência Irrestrira - UEF"
   ]
  },
  {
   "cell_type": "code",
   "execution_count": 54,
   "id": "728b1a90",
   "metadata": {},
   "outputs": [
    {
     "data": {
      "text/html": [
       "<div>\n",
       "<style scoped>\n",
       "    .dataframe tbody tr th:only-of-type {\n",
       "        vertical-align: middle;\n",
       "    }\n",
       "\n",
       "    .dataframe tbody tr th {\n",
       "        vertical-align: top;\n",
       "    }\n",
       "\n",
       "    .dataframe thead th {\n",
       "        text-align: right;\n",
       "    }\n",
       "</style>\n",
       "<table border=\"1\" class=\"dataframe\">\n",
       "  <thead>\n",
       "    <tr style=\"text-align: right;\">\n",
       "      <th></th>\n",
       "      <th>mean_return</th>\n",
       "      <th>var_return</th>\n",
       "      <th>port</th>\n",
       "      <th>portfolio</th>\n",
       "    </tr>\n",
       "  </thead>\n",
       "  <tbody>\n",
       "    <tr>\n",
       "      <th>0</th>\n",
       "      <td>0.010865</td>\n",
       "      <td>0.004776</td>\n",
       "      <td>1</td>\n",
       "      <td>Hang Seng - Hong Kong</td>\n",
       "    </tr>\n",
       "    <tr>\n",
       "      <th>1</th>\n",
       "      <td>0.010861</td>\n",
       "      <td>0.004768</td>\n",
       "      <td>1</td>\n",
       "      <td>Hang Seng - Hong Kong</td>\n",
       "    </tr>\n",
       "    <tr>\n",
       "      <th>2</th>\n",
       "      <td>0.010857</td>\n",
       "      <td>0.004760</td>\n",
       "      <td>1</td>\n",
       "      <td>Hang Seng - Hong Kong</td>\n",
       "    </tr>\n",
       "    <tr>\n",
       "      <th>3</th>\n",
       "      <td>0.010853</td>\n",
       "      <td>0.004752</td>\n",
       "      <td>1</td>\n",
       "      <td>Hang Seng - Hong Kong</td>\n",
       "    </tr>\n",
       "    <tr>\n",
       "      <th>4</th>\n",
       "      <td>0.010849</td>\n",
       "      <td>0.004745</td>\n",
       "      <td>1</td>\n",
       "      <td>Hang Seng - Hong Kong</td>\n",
       "    </tr>\n",
       "  </tbody>\n",
       "</table>\n",
       "</div>"
      ],
      "text/plain": [
       "   mean_return  var_return  port              portfolio\n",
       "0     0.010865    0.004776     1  Hang Seng - Hong Kong\n",
       "1     0.010861    0.004768     1  Hang Seng - Hong Kong\n",
       "2     0.010857    0.004760     1  Hang Seng - Hong Kong\n",
       "3     0.010853    0.004752     1  Hang Seng - Hong Kong\n",
       "4     0.010849    0.004745     1  Hang Seng - Hong Kong"
      ]
     },
     "execution_count": 54,
     "metadata": {},
     "output_type": "execute_result"
    }
   ],
   "source": [
    "uef.head()"
   ]
  },
  {
   "cell_type": "code",
   "execution_count": 55,
   "id": "4d5f3e6a",
   "metadata": {},
   "outputs": [
    {
     "data": {
      "image/png": "[encoded data removed]",
      "text/plain": [
       "<Figure size 1080x216 with 5 Axes>"
      ]
     },
     "metadata": {
      "needs_background": "light"
     },
     "output_type": "display_data"
    }
   ],
   "source": [
    "g = sns.relplot(data=uef, y='mean_return', x='var_return', col='portfolio', kind='line', height=3)\n",
    "ax=ax"
   ]
  },
  {
   "cell_type": "markdown",
   "id": "available-equivalent",
   "metadata": {},
   "source": [
    "## Curvas de Aprendizado"
   ]
  },
  {
   "cell_type": "code",
   "execution_count": 56,
   "id": "f11e0e32",
   "metadata": {},
   "outputs": [],
   "source": [
    "col_order = ['iDR', 'idID', 'TID', 'Random']\n",
    "row_order = ['Best', 'First', 'Random']"
   ]
  },
  {
   "cell_type": "code",
   "execution_count": 57,
   "id": "8ded463e",
   "metadata": {},
   "outputs": [
    {
     "data": {
      "text/html": [
       "<div>\n",
       "<style scoped>\n",
       "    .dataframe tbody tr th:only-of-type {\n",
       "        vertical-align: middle;\n",
       "    }\n",
       "\n",
       "    .dataframe tbody tr th {\n",
       "        vertical-align: top;\n",
       "    }\n",
       "\n",
       "    .dataframe thead th {\n",
       "        text-align: right;\n",
       "    }\n",
       "</style>\n",
       "<table border=\"1\" class=\"dataframe\">\n",
       "  <thead>\n",
       "    <tr style=\"text-align: right;\">\n",
       "      <th></th>\n",
       "      <th>iter</th>\n",
       "      <th>cost</th>\n",
       "      <th>risk</th>\n",
       "      <th>return</th>\n",
       "      <th>Q</th>\n",
       "      <th>max_iter</th>\n",
       "      <th>pop_size</th>\n",
       "      <th>mem_consider</th>\n",
       "      <th>pitch_adj</th>\n",
       "      <th>alpha</th>\n",
       "      <th>lambda</th>\n",
       "      <th>port_n</th>\n",
       "      <th>k</th>\n",
       "      <th>seed</th>\n",
       "      <th>filename</th>\n",
       "      <th>last_iter</th>\n",
       "    </tr>\n",
       "  </thead>\n",
       "  <tbody>\n",
       "    <tr>\n",
       "      <th>0</th>\n",
       "      <td>0</td>\n",
       "      <td>-0.006935</td>\n",
       "      <td>0.086537</td>\n",
       "      <td>0.007442</td>\n",
       "      <td>5.0</td>\n",
       "      <td>1000</td>\n",
       "      <td>1000</td>\n",
       "      <td>0.5</td>\n",
       "      <td>0.5</td>\n",
       "      <td>0.1</td>\n",
       "      <td>0.0054</td>\n",
       "      <td>1</td>\n",
       "      <td>5</td>\n",
       "      <td>NaN</td>\n",
       "      <td>log_gls_20211210_221138_408527.csv</td>\n",
       "      <td>NaN</td>\n",
       "    </tr>\n",
       "    <tr>\n",
       "      <th>1</th>\n",
       "      <td>1</td>\n",
       "      <td>-0.006935</td>\n",
       "      <td>0.086537</td>\n",
       "      <td>0.007442</td>\n",
       "      <td>5.0</td>\n",
       "      <td>1000</td>\n",
       "      <td>1000</td>\n",
       "      <td>0.5</td>\n",
       "      <td>0.5</td>\n",
       "      <td>0.1</td>\n",
       "      <td>0.0054</td>\n",
       "      <td>1</td>\n",
       "      <td>5</td>\n",
       "      <td>NaN</td>\n",
       "      <td>log_gls_20211210_221138_408527.csv</td>\n",
       "      <td>NaN</td>\n",
       "    </tr>\n",
       "    <tr>\n",
       "      <th>2</th>\n",
       "      <td>2</td>\n",
       "      <td>-0.006935</td>\n",
       "      <td>0.086537</td>\n",
       "      <td>0.007442</td>\n",
       "      <td>5.0</td>\n",
       "      <td>1000</td>\n",
       "      <td>1000</td>\n",
       "      <td>0.5</td>\n",
       "      <td>0.5</td>\n",
       "      <td>0.1</td>\n",
       "      <td>0.0054</td>\n",
       "      <td>1</td>\n",
       "      <td>5</td>\n",
       "      <td>NaN</td>\n",
       "      <td>log_gls_20211210_221138_408527.csv</td>\n",
       "      <td>NaN</td>\n",
       "    </tr>\n",
       "    <tr>\n",
       "      <th>3</th>\n",
       "      <td>3</td>\n",
       "      <td>-0.006935</td>\n",
       "      <td>0.086537</td>\n",
       "      <td>0.007442</td>\n",
       "      <td>5.0</td>\n",
       "      <td>1000</td>\n",
       "      <td>1000</td>\n",
       "      <td>0.5</td>\n",
       "      <td>0.5</td>\n",
       "      <td>0.1</td>\n",
       "      <td>0.0054</td>\n",
       "      <td>1</td>\n",
       "      <td>5</td>\n",
       "      <td>NaN</td>\n",
       "      <td>log_gls_20211210_221138_408527.csv</td>\n",
       "      <td>NaN</td>\n",
       "    </tr>\n",
       "    <tr>\n",
       "      <th>4</th>\n",
       "      <td>4</td>\n",
       "      <td>-0.006935</td>\n",
       "      <td>0.086537</td>\n",
       "      <td>0.007442</td>\n",
       "      <td>5.0</td>\n",
       "      <td>1000</td>\n",
       "      <td>1000</td>\n",
       "      <td>0.5</td>\n",
       "      <td>0.5</td>\n",
       "      <td>0.1</td>\n",
       "      <td>0.0054</td>\n",
       "      <td>1</td>\n",
       "      <td>5</td>\n",
       "      <td>NaN</td>\n",
       "      <td>log_gls_20211210_221138_408527.csv</td>\n",
       "      <td>NaN</td>\n",
       "    </tr>\n",
       "  </tbody>\n",
       "</table>\n",
       "</div>"
      ],
      "text/plain": [
       "   iter      cost      risk    return    Q  max_iter  pop_size  mem_consider  \\\n",
       "0     0 -0.006935  0.086537  0.007442  5.0      1000      1000           0.5   \n",
       "1     1 -0.006935  0.086537  0.007442  5.0      1000      1000           0.5   \n",
       "2     2 -0.006935  0.086537  0.007442  5.0      1000      1000           0.5   \n",
       "3     3 -0.006935  0.086537  0.007442  5.0      1000      1000           0.5   \n",
       "4     4 -0.006935  0.086537  0.007442  5.0      1000      1000           0.5   \n",
       "\n",
       "   pitch_adj  alpha  lambda  port_n  k  seed  \\\n",
       "0        0.5    0.1  0.0054       1  5   NaN   \n",
       "1        0.5    0.1  0.0054       1  5   NaN   \n",
       "2        0.5    0.1  0.0054       1  5   NaN   \n",
       "3        0.5    0.1  0.0054       1  5   NaN   \n",
       "4        0.5    0.1  0.0054       1  5   NaN   \n",
       "\n",
       "                             filename  last_iter  \n",
       "0  log_gls_20211210_221138_408527.csv        NaN  \n",
       "1  log_gls_20211210_221138_408527.csv        NaN  \n",
       "2  log_gls_20211210_221138_408527.csv        NaN  \n",
       "3  log_gls_20211210_221138_408527.csv        NaN  \n",
       "4  log_gls_20211210_221138_408527.csv        NaN  "
      ]
     },
     "execution_count": 57,
     "metadata": {},
     "output_type": "execute_result"
    }
   ],
   "source": [
    "all_data.drop(['X', 'Z'], axis=1).head()"
   ]
  },
  {
   "cell_type": "code",
   "execution_count": 58,
   "id": "e5bc7426",
   "metadata": {},
   "outputs": [
    {
     "data": {
      "text/plain": [
       "<seaborn.axisgrid.FacetGrid at 0x7fe8c24e89d0>"
      ]
     },
     "execution_count": 58,
     "metadata": {},
     "output_type": "execute_result"
    },
    {
     "data": {
      "image/png": "[encoded data removed]",
      "text/plain": [
       "<Figure size 268x216 with 1 Axes>"
      ]
     },
     "metadata": {
      "needs_background": "light"
     },
     "output_type": "display_data"
    }
   ],
   "source": [
    "data = all_data.copy()\n",
    "sns.relplot(data=data, x='iter', y='cost', hue='alpha', row='mem_consider', col='pitch_adj',\n",
    "            kind='line', height=3)"
   ]
  },
  {
   "cell_type": "code",
   "execution_count": 59,
   "id": "e5bc7426",
   "metadata": {},
   "outputs": [
    {
     "data": {
      "text/plain": [
       "<seaborn.axisgrid.FacetGrid at 0x7fe8c20245b0>"
      ]
     },
     "execution_count": 59,
     "metadata": {},
     "output_type": "execute_result"
    },
    {
     "data": {
      "image/png": "[encoded data removed]",
      "text/plain": [
       "<Figure size 268x216 with 1 Axes>"
      ]
     },
     "metadata": {
      "needs_background": "light"
     },
     "output_type": "display_data"
    }
   ],
   "source": [
    "data = all_data.copy()\n",
    "sns.relplot(data=data, x='iter', y='risk', hue='alpha', row='mem_consider', col='pitch_adj',\n",
    "            kind='line', height=3)"
   ]
  },
  {
   "cell_type": "code",
   "execution_count": 60,
   "id": "e5bc7426",
   "metadata": {},
   "outputs": [
    {
     "data": {
      "text/plain": [
       "<seaborn.axisgrid.FacetGrid at 0x7fe8c25a7f40>"
      ]
     },
     "execution_count": 60,
     "metadata": {},
     "output_type": "execute_result"
    },
    {
     "data": {
      "image/png": "[encoded data removed]",
      "text/plain": [
       "<Figure size 268x216 with 1 Axes>"
      ]
     },
     "metadata": {
      "needs_background": "light"
     },
     "output_type": "display_data"
    }
   ],
   "source": [
    "data = all_data.copy()\n",
    "sns.relplot(data=data, x='iter', y='return', hue='alpha', row='mem_consider', col='pitch_adj',\n",
    "            kind='line', height=3)"
   ]
  },
  {
   "cell_type": "code",
   "execution_count": 62,
   "id": "27134738",
   "metadata": {},
   "outputs": [
    {
     "data": {
      "text/plain": [
       "<seaborn.axisgrid.FacetGrid at 0x7fe8c2566d00>"
      ]
     },
     "execution_count": 62,
     "metadata": {},
     "output_type": "execute_result"
    },
    {
     "data": {
      "image/png": "[encoded data removed]",
      "text/plain": [
       "<Figure size 268x216 with 1 Axes>"
      ]
     },
     "metadata": {
      "needs_background": "light"
     },
     "output_type": "display_data"
    }
   ],
   "source": [
    "sns.relplot(data=best_data, x='return', y='risk', kind='scatter',\n",
    "            height=3, hue='Q')\n"
   ]
  },
  {
   "cell_type": "code",
   "execution_count": 63,
   "id": "d62033cd",
   "metadata": {},
   "outputs": [
    {
     "data": {
      "text/html": [
       "<div>\n",
       "<style scoped>\n",
       "    .dataframe tbody tr th:only-of-type {\n",
       "        vertical-align: middle;\n",
       "    }\n",
       "\n",
       "    .dataframe tbody tr th {\n",
       "        vertical-align: top;\n",
       "    }\n",
       "\n",
       "    .dataframe thead th {\n",
       "        text-align: right;\n",
       "    }\n",
       "</style>\n",
       "<table border=\"1\" class=\"dataframe\">\n",
       "  <thead>\n",
       "    <tr style=\"text-align: right;\">\n",
       "      <th></th>\n",
       "      <th>count</th>\n",
       "      <th>mean</th>\n",
       "      <th>std</th>\n",
       "      <th>min</th>\n",
       "      <th>25%</th>\n",
       "      <th>50%</th>\n",
       "      <th>75%</th>\n",
       "      <th>max</th>\n",
       "    </tr>\n",
       "  </thead>\n",
       "  <tbody>\n",
       "    <tr>\n",
       "      <th>iter</th>\n",
       "      <td>1061.0</td>\n",
       "      <td>1007.459001</td>\n",
       "      <td>2.763043e+02</td>\n",
       "      <td>974.000000</td>\n",
       "      <td>999.000000</td>\n",
       "      <td>999.000000</td>\n",
       "      <td>999.000000</td>\n",
       "      <td>9999.000000</td>\n",
       "    </tr>\n",
       "    <tr>\n",
       "      <th>cost</th>\n",
       "      <td>1061.0</td>\n",
       "      <td>-0.007087</td>\n",
       "      <td>2.716907e-03</td>\n",
       "      <td>-0.010749</td>\n",
       "      <td>-0.008581</td>\n",
       "      <td>-0.006705</td>\n",
       "      <td>-0.005672</td>\n",
       "      <td>0.056817</td>\n",
       "    </tr>\n",
       "    <tr>\n",
       "      <th>risk</th>\n",
       "      <td>1061.0</td>\n",
       "      <td>0.152592</td>\n",
       "      <td>5.739882e-02</td>\n",
       "      <td>0.004545</td>\n",
       "      <td>0.115635</td>\n",
       "      <td>0.167388</td>\n",
       "      <td>0.195473</td>\n",
       "      <td>0.261668</td>\n",
       "    </tr>\n",
       "    <tr>\n",
       "      <th>return</th>\n",
       "      <td>1061.0</td>\n",
       "      <td>0.006051</td>\n",
       "      <td>1.643242e-03</td>\n",
       "      <td>0.003327</td>\n",
       "      <td>0.004946</td>\n",
       "      <td>0.005542</td>\n",
       "      <td>0.006621</td>\n",
       "      <td>0.010749</td>\n",
       "    </tr>\n",
       "    <tr>\n",
       "      <th>Q</th>\n",
       "      <td>1061.0</td>\n",
       "      <td>6.041470</td>\n",
       "      <td>2.601555e+00</td>\n",
       "      <td>2.000000</td>\n",
       "      <td>4.000000</td>\n",
       "      <td>6.000000</td>\n",
       "      <td>8.000000</td>\n",
       "      <td>10.000000</td>\n",
       "    </tr>\n",
       "    <tr>\n",
       "      <th>max_iter</th>\n",
       "      <td>1061.0</td>\n",
       "      <td>1008.482564</td>\n",
       "      <td>2.763025e+02</td>\n",
       "      <td>1000.000000</td>\n",
       "      <td>1000.000000</td>\n",
       "      <td>1000.000000</td>\n",
       "      <td>1000.000000</td>\n",
       "      <td>10000.000000</td>\n",
       "    </tr>\n",
       "    <tr>\n",
       "      <th>pop_size</th>\n",
       "      <td>1061.0</td>\n",
       "      <td>853.722903</td>\n",
       "      <td>3.472830e+02</td>\n",
       "      <td>30.000000</td>\n",
       "      <td>1000.000000</td>\n",
       "      <td>1000.000000</td>\n",
       "      <td>1000.000000</td>\n",
       "      <td>1000.000000</td>\n",
       "    </tr>\n",
       "    <tr>\n",
       "      <th>mem_consider</th>\n",
       "      <td>1061.0</td>\n",
       "      <td>0.500000</td>\n",
       "      <td>0.000000e+00</td>\n",
       "      <td>0.500000</td>\n",
       "      <td>0.500000</td>\n",
       "      <td>0.500000</td>\n",
       "      <td>0.500000</td>\n",
       "      <td>0.500000</td>\n",
       "    </tr>\n",
       "    <tr>\n",
       "      <th>pitch_adj</th>\n",
       "      <td>1061.0</td>\n",
       "      <td>0.500000</td>\n",
       "      <td>0.000000e+00</td>\n",
       "      <td>0.500000</td>\n",
       "      <td>0.500000</td>\n",
       "      <td>0.500000</td>\n",
       "      <td>0.500000</td>\n",
       "      <td>0.500000</td>\n",
       "    </tr>\n",
       "    <tr>\n",
       "      <th>alpha</th>\n",
       "      <td>1061.0</td>\n",
       "      <td>0.100000</td>\n",
       "      <td>1.388433e-17</td>\n",
       "      <td>0.100000</td>\n",
       "      <td>0.100000</td>\n",
       "      <td>0.100000</td>\n",
       "      <td>0.100000</td>\n",
       "      <td>0.100000</td>\n",
       "    </tr>\n",
       "    <tr>\n",
       "      <th>lambda</th>\n",
       "      <td>1061.0</td>\n",
       "      <td>0.005523</td>\n",
       "      <td>1.546725e-02</td>\n",
       "      <td>0.000100</td>\n",
       "      <td>0.002500</td>\n",
       "      <td>0.005100</td>\n",
       "      <td>0.007500</td>\n",
       "      <td>0.500000</td>\n",
       "    </tr>\n",
       "    <tr>\n",
       "      <th>port_n</th>\n",
       "      <td>1061.0</td>\n",
       "      <td>1.000000</td>\n",
       "      <td>0.000000e+00</td>\n",
       "      <td>1.000000</td>\n",
       "      <td>1.000000</td>\n",
       "      <td>1.000000</td>\n",
       "      <td>1.000000</td>\n",
       "      <td>1.000000</td>\n",
       "    </tr>\n",
       "    <tr>\n",
       "      <th>k</th>\n",
       "      <td>1061.0</td>\n",
       "      <td>6.041470</td>\n",
       "      <td>2.601555e+00</td>\n",
       "      <td>2.000000</td>\n",
       "      <td>4.000000</td>\n",
       "      <td>6.000000</td>\n",
       "      <td>8.000000</td>\n",
       "      <td>10.000000</td>\n",
       "    </tr>\n",
       "    <tr>\n",
       "      <th>seed</th>\n",
       "      <td>0.0</td>\n",
       "      <td>NaN</td>\n",
       "      <td>NaN</td>\n",
       "      <td>NaN</td>\n",
       "      <td>NaN</td>\n",
       "      <td>NaN</td>\n",
       "      <td>NaN</td>\n",
       "      <td>NaN</td>\n",
       "    </tr>\n",
       "    <tr>\n",
       "      <th>last_iter</th>\n",
       "      <td>1061.0</td>\n",
       "      <td>1.000000</td>\n",
       "      <td>0.000000e+00</td>\n",
       "      <td>1.000000</td>\n",
       "      <td>1.000000</td>\n",
       "      <td>1.000000</td>\n",
       "      <td>1.000000</td>\n",
       "      <td>1.000000</td>\n",
       "    </tr>\n",
       "  </tbody>\n",
       "</table>\n",
       "</div>"
      ],
      "text/plain": [
       "               count         mean           std          min          25%  \\\n",
       "iter          1061.0  1007.459001  2.763043e+02   974.000000   999.000000   \n",
       "cost          1061.0    -0.007087  2.716907e-03    -0.010749    -0.008581   \n",
       "risk          1061.0     0.152592  5.739882e-02     0.004545     0.115635   \n",
       "return        1061.0     0.006051  1.643242e-03     0.003327     0.004946   \n",
       "Q             1061.0     6.041470  2.601555e+00     2.000000     4.000000   \n",
       "max_iter      1061.0  1008.482564  2.763025e+02  1000.000000  1000.000000   \n",
       "pop_size      1061.0   853.722903  3.472830e+02    30.000000  1000.000000   \n",
       "mem_consider  1061.0     0.500000  0.000000e+00     0.500000     0.500000   \n",
       "pitch_adj     1061.0     0.500000  0.000000e+00     0.500000     0.500000   \n",
       "alpha         1061.0     0.100000  1.388433e-17     0.100000     0.100000   \n",
       "lambda        1061.0     0.005523  1.546725e-02     0.000100     0.002500   \n",
       "port_n        1061.0     1.000000  0.000000e+00     1.000000     1.000000   \n",
       "k             1061.0     6.041470  2.601555e+00     2.000000     4.000000   \n",
       "seed             0.0          NaN           NaN          NaN          NaN   \n",
       "last_iter     1061.0     1.000000  0.000000e+00     1.000000     1.000000   \n",
       "\n",
       "                      50%          75%           max  \n",
       "iter           999.000000   999.000000   9999.000000  \n",
       "cost            -0.006705    -0.005672      0.056817  \n",
       "risk             0.167388     0.195473      0.261668  \n",
       "return           0.005542     0.006621      0.010749  \n",
       "Q                6.000000     8.000000     10.000000  \n",
       "max_iter      1000.000000  1000.000000  10000.000000  \n",
       "pop_size      1000.000000  1000.000000   1000.000000  \n",
       "mem_consider     0.500000     0.500000      0.500000  \n",
       "pitch_adj        0.500000     0.500000      0.500000  \n",
       "alpha            0.100000     0.100000      0.100000  \n",
       "lambda           0.005100     0.007500      0.500000  \n",
       "port_n           1.000000     1.000000      1.000000  \n",
       "k                6.000000     8.000000     10.000000  \n",
       "seed                  NaN          NaN           NaN  \n",
       "last_iter        1.000000     1.000000      1.000000  "
      ]
     },
     "execution_count": 63,
     "metadata": {},
     "output_type": "execute_result"
    }
   ],
   "source": [
    "best_data.describe().T"
   ]
  },
  {
   "cell_type": "code",
   "execution_count": 66,
   "id": "06d4fe86",
   "metadata": {},
   "outputs": [
    {
     "data": {
      "text/plain": [
       "Text(0, 0.5, 'mean_return')"
      ]
     },
     "execution_count": 66,
     "metadata": {},
     "output_type": "execute_result"
    },
    {
     "data": {
      "image/png": "[encoded data removed]",
      "text/plain": [
       "<Figure size 432x288 with 1 Axes>"
      ]
     },
     "metadata": {
      "needs_background": "light"
     },
     "output_type": "display_data"
    }
   ],
   "source": [
    "data = best_data[best_data['risk']<0.01]\n",
    "plt.plot(uef[uef.port==1].var_return, uef[uef.port==1].mean_return)\n",
    "plt.scatter(data.risk, data['return'])\n",
    "plt.xlabel(\"var_return\")\n",
    "plt.ylabel(\"mean_return\")"
   ]
  },
  {
   "cell_type": "code",
   "execution_count": null,
   "id": "a95654ec",
   "metadata": {},
   "outputs": [
    {
     "data": {
      "text/plain": [
       "<matplotlib.legend.Legend at 0x7fcfd8c45a60>"
      ]
     },
     "execution_count": 140,
     "metadata": {},
     "output_type": "execute_result"
    },
    {
     "data": {
      "image/png": "[encoded data removed]",
      "text/plain": [
       "<Figure size 720x360 with 1 Axes>"
      ]
     },
     "metadata": {
      "needs_background": "light"
     },
     "output_type": "display_data"
    }
   ],
   "source": [
    "data = best_data[best_data['obj']<0.005]\n",
    "plt.figure(figsize=(10,5))\n",
    "plt.plot(uef[uef.port==1].var_return, uef[uef.port==1].mean_return, color='k', label='Fronteira de Eficiência')\n",
    "# plt.scatter(data.obj, data['return'], alpha=0.5, c=data.Q, label='Melhores Resultados')\n",
    "sns.scatterplot(data=data, x='obj', y='return', hue='Q')\n",
    "plt.ylabel(\"Retorno\")\n",
    "plt.xlabel(\"Risco (função objetivo)\")\n",
    "plt.legend()"
   ]
  },
  {
   "cell_type": "code",
   "execution_count": null,
   "id": "b14203f5",
   "metadata": {},
   "outputs": [
    {
     "data": {
      "text/html": [
       "<div>\n",
       "<style scoped>\n",
       "    .dataframe tbody tr th:only-of-type {\n",
       "        vertical-align: middle;\n",
       "    }\n",
       "\n",
       "    .dataframe tbody tr th {\n",
       "        vertical-align: top;\n",
       "    }\n",
       "\n",
       "    .dataframe thead th {\n",
       "        text-align: right;\n",
       "    }\n",
       "</style>\n",
       "<table border=\"1\" class=\"dataframe\">\n",
       "  <thead>\n",
       "    <tr style=\"text-align: right;\">\n",
       "      <th></th>\n",
       "      <th>iter</th>\n",
       "      <th>obj</th>\n",
       "      <th>return</th>\n",
       "      <th>Q</th>\n",
       "      <th>max_iter</th>\n",
       "      <th>pop_size</th>\n",
       "      <th>mem_consider</th>\n",
       "      <th>pitch_adj</th>\n",
       "      <th>alpha</th>\n",
       "      <th>exp_return</th>\n",
       "      <th>port_n</th>\n",
       "      <th>k</th>\n",
       "      <th>seed</th>\n",
       "      <th>filename</th>\n",
       "      <th>last_iter</th>\n",
       "    </tr>\n",
       "  </thead>\n",
       "  <tbody>\n",
       "    <tr>\n",
       "      <th>999</th>\n",
       "      <td>999</td>\n",
       "      <td>0.144704</td>\n",
       "      <td>0.004960</td>\n",
       "      <td>9.0</td>\n",
       "      <td>1000</td>\n",
       "      <td>30</td>\n",
       "      <td>0.5</td>\n",
       "      <td>0.5</td>\n",
       "      <td>0.1</td>\n",
       "      <td>0.0017</td>\n",
       "      <td>1</td>\n",
       "      <td>9</td>\n",
       "      <td>NaN</td>\n",
       "      <td>log_gls_20211210_201507_508349.csv</td>\n",
       "      <td>1.0</td>\n",
       "    </tr>\n",
       "    <tr>\n",
       "      <th>1999</th>\n",
       "      <td>999</td>\n",
       "      <td>0.063610</td>\n",
       "      <td>0.005625</td>\n",
       "      <td>4.0</td>\n",
       "      <td>1000</td>\n",
       "      <td>30</td>\n",
       "      <td>0.5</td>\n",
       "      <td>0.5</td>\n",
       "      <td>0.1</td>\n",
       "      <td>0.0013</td>\n",
       "      <td>1</td>\n",
       "      <td>4</td>\n",
       "      <td>NaN</td>\n",
       "      <td>log_gls_20211210_201500_510165.csv</td>\n",
       "      <td>1.0</td>\n",
       "    </tr>\n",
       "    <tr>\n",
       "      <th>2999</th>\n",
       "      <td>999</td>\n",
       "      <td>0.018475</td>\n",
       "      <td>0.001747</td>\n",
       "      <td>2.0</td>\n",
       "      <td>1000</td>\n",
       "      <td>29</td>\n",
       "      <td>0.5</td>\n",
       "      <td>0.5</td>\n",
       "      <td>0.1</td>\n",
       "      <td>0.0010</td>\n",
       "      <td>1</td>\n",
       "      <td>2</td>\n",
       "      <td>NaN</td>\n",
       "      <td>log_gls_20211210_201436_940165.csv</td>\n",
       "      <td>1.0</td>\n",
       "    </tr>\n",
       "    <tr>\n",
       "      <th>3999</th>\n",
       "      <td>999</td>\n",
       "      <td>0.141849</td>\n",
       "      <td>0.004070</td>\n",
       "      <td>9.0</td>\n",
       "      <td>1000</td>\n",
       "      <td>29</td>\n",
       "      <td>0.5</td>\n",
       "      <td>0.5</td>\n",
       "      <td>0.1</td>\n",
       "      <td>0.0023</td>\n",
       "      <td>1</td>\n",
       "      <td>9</td>\n",
       "      <td>NaN</td>\n",
       "      <td>log_gls_20211210_201440_521707.csv</td>\n",
       "      <td>1.0</td>\n",
       "    </tr>\n",
       "    <tr>\n",
       "      <th>4999</th>\n",
       "      <td>999</td>\n",
       "      <td>0.102455</td>\n",
       "      <td>0.005276</td>\n",
       "      <td>8.0</td>\n",
       "      <td>1000</td>\n",
       "      <td>30</td>\n",
       "      <td>0.5</td>\n",
       "      <td>0.5</td>\n",
       "      <td>0.1</td>\n",
       "      <td>0.0011</td>\n",
       "      <td>1</td>\n",
       "      <td>8</td>\n",
       "      <td>NaN</td>\n",
       "      <td>log_gls_20211210_201440_476306.csv</td>\n",
       "      <td>1.0</td>\n",
       "    </tr>\n",
       "  </tbody>\n",
       "</table>\n",
       "</div>"
      ],
      "text/plain": [
       "      iter       obj    return    Q  max_iter  pop_size  mem_consider  \\\n",
       "999    999  0.144704  0.004960  9.0      1000        30           0.5   \n",
       "1999   999  0.063610  0.005625  4.0      1000        30           0.5   \n",
       "2999   999  0.018475  0.001747  2.0      1000        29           0.5   \n",
       "3999   999  0.141849  0.004070  9.0      1000        29           0.5   \n",
       "4999   999  0.102455  0.005276  8.0      1000        30           0.5   \n",
       "\n",
       "      pitch_adj  alpha  exp_return  port_n  k  seed  \\\n",
       "999         0.5    0.1      0.0017       1  9   NaN   \n",
       "1999        0.5    0.1      0.0013       1  4   NaN   \n",
       "2999        0.5    0.1      0.0010       1  2   NaN   \n",
       "3999        0.5    0.1      0.0023       1  9   NaN   \n",
       "4999        0.5    0.1      0.0011       1  8   NaN   \n",
       "\n",
       "                                filename  last_iter  \n",
       "999   log_gls_20211210_201507_508349.csv        1.0  \n",
       "1999  log_gls_20211210_201500_510165.csv        1.0  \n",
       "2999  log_gls_20211210_201436_940165.csv        1.0  \n",
       "3999  log_gls_20211210_201440_521707.csv        1.0  \n",
       "4999  log_gls_20211210_201440_476306.csv        1.0  "
      ]
     },
     "execution_count": 107,
     "metadata": {},
     "output_type": "execute_result"
    }
   ],
   "source": [
    "best_data.drop(['X', 'Z'], axis=1).head()"
   ]
  },
  {
   "cell_type": "code",
   "execution_count": null,
   "id": "06d4fe86",
   "metadata": {},
   "outputs": [
    {
     "data": {
      "text/plain": [
       "Text(0, 0.5, 'mean_return')"
      ]
     },
     "execution_count": 108,
     "metadata": {},
     "output_type": "execute_result"
    },
    {
     "data": {
      "image/png": "[encoded data removed]",
      "text/plain": [
       "<Figure size 432x288 with 1 Axes>"
      ]
     },
     "metadata": {
      "needs_background": "light"
     },
     "output_type": "display_data"
    }
   ],
   "source": [
    "data = best_data[best_data['obj']<0.005]\n",
    "plt.plot(uef[uef.port==1].var_return, uef[uef.port==1].mean_return)\n",
    "plt.scatter(data.obj, data['return'])\n",
    "plt.xlabel(\"var_return\")\n",
    "plt.ylabel(\"mean_return\")"
   ]
  },
  {
   "cell_type": "code",
   "execution_count": null,
   "id": "dffdb625",
   "metadata": {},
   "outputs": [
    {
     "data": {
      "text/html": [
       "<div>\n",
       "<style scoped>\n",
       "    .dataframe tbody tr th:only-of-type {\n",
       "        vertical-align: middle;\n",
       "    }\n",
       "\n",
       "    .dataframe tbody tr th {\n",
       "        vertical-align: top;\n",
       "    }\n",
       "\n",
       "    .dataframe thead th {\n",
       "        text-align: right;\n",
       "    }\n",
       "</style>\n",
       "<table border=\"1\" class=\"dataframe\">\n",
       "  <thead>\n",
       "    <tr style=\"text-align: right;\">\n",
       "      <th></th>\n",
       "      <th>iter</th>\n",
       "      <th>obj</th>\n",
       "      <th>return</th>\n",
       "      <th>X</th>\n",
       "      <th>Z</th>\n",
       "      <th>Q</th>\n",
       "      <th>max_iter</th>\n",
       "      <th>pop_size</th>\n",
       "      <th>mem_consider</th>\n",
       "      <th>pitch_adj</th>\n",
       "      <th>alpha</th>\n",
       "      <th>exp_return</th>\n",
       "      <th>port_n</th>\n",
       "      <th>k</th>\n",
       "      <th>seed</th>\n",
       "      <th>filename</th>\n",
       "      <th>last_iter</th>\n",
       "    </tr>\n",
       "  </thead>\n",
       "  <tbody>\n",
       "    <tr>\n",
       "      <th>999</th>\n",
       "      <td>999</td>\n",
       "      <td>0.144704</td>\n",
       "      <td>0.004960</td>\n",
       "      <td>[0.         0.09073014 0.         0.         0...</td>\n",
       "      <td>[0. 1. 0. 0. 1. 0. 0. 0. 1. 0. 0. 1. 1. 0. 0. ...</td>\n",
       "      <td>9.0</td>\n",
       "      <td>1000</td>\n",
       "      <td>30</td>\n",
       "      <td>0.5</td>\n",
       "      <td>0.5</td>\n",
       "      <td>0.1</td>\n",
       "      <td>0.0017</td>\n",
       "      <td>1</td>\n",
       "      <td>9</td>\n",
       "      <td>NaN</td>\n",
       "      <td>log_gls_20211210_201507_508349.csv</td>\n",
       "      <td>1.0</td>\n",
       "    </tr>\n",
       "    <tr>\n",
       "      <th>1999</th>\n",
       "      <td>999</td>\n",
       "      <td>0.063610</td>\n",
       "      <td>0.005625</td>\n",
       "      <td>[0.         0.         0.         0.         0...</td>\n",
       "      <td>[0. 0. 0. 0. 1. 0. 0. 0. 1. 0. 0. 0. 0. 0. 0. ...</td>\n",
       "      <td>4.0</td>\n",
       "      <td>1000</td>\n",
       "      <td>30</td>\n",
       "      <td>0.5</td>\n",
       "      <td>0.5</td>\n",
       "      <td>0.1</td>\n",
       "      <td>0.0013</td>\n",
       "      <td>1</td>\n",
       "      <td>4</td>\n",
       "      <td>NaN</td>\n",
       "      <td>log_gls_20211210_201500_510165.csv</td>\n",
       "      <td>1.0</td>\n",
       "    </tr>\n",
       "    <tr>\n",
       "      <th>2999</th>\n",
       "      <td>999</td>\n",
       "      <td>0.018475</td>\n",
       "      <td>0.001747</td>\n",
       "      <td>[0.02693715 0.         0.         0.         0...</td>\n",
       "      <td>[1. 0. 0. 0. 0. 1. 0. 0. 0. 0. 0. 0. 0. 0. 0. ...</td>\n",
       "      <td>2.0</td>\n",
       "      <td>1000</td>\n",
       "      <td>29</td>\n",
       "      <td>0.5</td>\n",
       "      <td>0.5</td>\n",
       "      <td>0.1</td>\n",
       "      <td>0.0010</td>\n",
       "      <td>1</td>\n",
       "      <td>2</td>\n",
       "      <td>NaN</td>\n",
       "      <td>log_gls_20211210_201436_940165.csv</td>\n",
       "      <td>1.0</td>\n",
       "    </tr>\n",
       "    <tr>\n",
       "      <th>3999</th>\n",
       "      <td>999</td>\n",
       "      <td>0.141849</td>\n",
       "      <td>0.004070</td>\n",
       "      <td>[0.         0.         0.         0.         0...</td>\n",
       "      <td>[0. 0. 0. 0. 1. 1. 0. 0. 0. 0. 0. 0. 0. 1. 1. ...</td>\n",
       "      <td>9.0</td>\n",
       "      <td>1000</td>\n",
       "      <td>29</td>\n",
       "      <td>0.5</td>\n",
       "      <td>0.5</td>\n",
       "      <td>0.1</td>\n",
       "      <td>0.0023</td>\n",
       "      <td>1</td>\n",
       "      <td>9</td>\n",
       "      <td>NaN</td>\n",
       "      <td>log_gls_20211210_201440_521707.csv</td>\n",
       "      <td>1.0</td>\n",
       "    </tr>\n",
       "    <tr>\n",
       "      <th>4999</th>\n",
       "      <td>999</td>\n",
       "      <td>0.102455</td>\n",
       "      <td>0.005276</td>\n",
       "      <td>[0.03832522 0.         0.         0.         0...</td>\n",
       "      <td>[1. 0. 0. 0. 1. 0. 0. 0. 0. 0. 0. 0. 0. 0. 0. ...</td>\n",
       "      <td>8.0</td>\n",
       "      <td>1000</td>\n",
       "      <td>30</td>\n",
       "      <td>0.5</td>\n",
       "      <td>0.5</td>\n",
       "      <td>0.1</td>\n",
       "      <td>0.0011</td>\n",
       "      <td>1</td>\n",
       "      <td>8</td>\n",
       "      <td>NaN</td>\n",
       "      <td>log_gls_20211210_201440_476306.csv</td>\n",
       "      <td>1.0</td>\n",
       "    </tr>\n",
       "  </tbody>\n",
       "</table>\n",
       "</div>"
      ],
      "text/plain": [
       "      iter       obj    return  \\\n",
       "999    999  0.144704  0.004960   \n",
       "1999   999  0.063610  0.005625   \n",
       "2999   999  0.018475  0.001747   \n",
       "3999   999  0.141849  0.004070   \n",
       "4999   999  0.102455  0.005276   \n",
       "\n",
       "                                                      X  \\\n",
       "999   [0.         0.09073014 0.         0.         0...   \n",
       "1999  [0.         0.         0.         0.         0...   \n",
       "2999  [0.02693715 0.         0.         0.         0...   \n",
       "3999  [0.         0.         0.         0.         0...   \n",
       "4999  [0.03832522 0.         0.         0.         0...   \n",
       "\n",
       "                                                      Z    Q  max_iter  \\\n",
       "999   [0. 1. 0. 0. 1. 0. 0. 0. 1. 0. 0. 1. 1. 0. 0. ...  9.0      1000   \n",
       "1999  [0. 0. 0. 0. 1. 0. 0. 0. 1. 0. 0. 0. 0. 0. 0. ...  4.0      1000   \n",
       "2999  [1. 0. 0. 0. 0. 1. 0. 0. 0. 0. 0. 0. 0. 0. 0. ...  2.0      1000   \n",
       "3999  [0. 0. 0. 0. 1. 1. 0. 0. 0. 0. 0. 0. 0. 1. 1. ...  9.0      1000   \n",
       "4999  [1. 0. 0. 0. 1. 0. 0. 0. 0. 0. 0. 0. 0. 0. 0. ...  8.0      1000   \n",
       "\n",
       "      pop_size  mem_consider  pitch_adj  alpha  exp_return  port_n  k  seed  \\\n",
       "999         30           0.5        0.5    0.1      0.0017       1  9   NaN   \n",
       "1999        30           0.5        0.5    0.1      0.0013       1  4   NaN   \n",
       "2999        29           0.5        0.5    0.1      0.0010       1  2   NaN   \n",
       "3999        29           0.5        0.5    0.1      0.0023       1  9   NaN   \n",
       "4999        30           0.5        0.5    0.1      0.0011       1  8   NaN   \n",
       "\n",
       "                                filename  last_iter  \n",
       "999   log_gls_20211210_201507_508349.csv        1.0  \n",
       "1999  log_gls_20211210_201500_510165.csv        1.0  \n",
       "2999  log_gls_20211210_201436_940165.csv        1.0  \n",
       "3999  log_gls_20211210_201440_521707.csv        1.0  \n",
       "4999  log_gls_20211210_201440_476306.csv        1.0  "
      ]
     },
     "execution_count": 109,
     "metadata": {},
     "output_type": "execute_result"
    }
   ],
   "source": [
    "best_data.head()"
   ]
  },
  {
   "cell_type": "code",
   "execution_count": null,
   "id": "6e6526b7",
   "metadata": {},
   "outputs": [
    {
     "data": {
      "text/html": [
       "<div>\n",
       "<style scoped>\n",
       "    .dataframe tbody tr th:only-of-type {\n",
       "        vertical-align: middle;\n",
       "    }\n",
       "\n",
       "    .dataframe tbody tr th {\n",
       "        vertical-align: top;\n",
       "    }\n",
       "\n",
       "    .dataframe thead th {\n",
       "        text-align: right;\n",
       "    }\n",
       "</style>\n",
       "<table border=\"1\" class=\"dataframe\">\n",
       "  <thead>\n",
       "    <tr style=\"text-align: right;\">\n",
       "      <th></th>\n",
       "      <th>count</th>\n",
       "      <th>mean</th>\n",
       "      <th>std</th>\n",
       "      <th>min</th>\n",
       "      <th>25%</th>\n",
       "      <th>50%</th>\n",
       "      <th>75%</th>\n",
       "      <th>max</th>\n",
       "    </tr>\n",
       "  </thead>\n",
       "  <tbody>\n",
       "    <tr>\n",
       "      <th>iter</th>\n",
       "      <td>240.0</td>\n",
       "      <td>969.954167</td>\n",
       "      <td>1.168630e+02</td>\n",
       "      <td>239.000000</td>\n",
       "      <td>999.000000</td>\n",
       "      <td>999.000000</td>\n",
       "      <td>999.000000</td>\n",
       "      <td>999.000000</td>\n",
       "    </tr>\n",
       "    <tr>\n",
       "      <th>obj</th>\n",
       "      <td>240.0</td>\n",
       "      <td>0.087490</td>\n",
       "      <td>4.749963e-02</td>\n",
       "      <td>0.003477</td>\n",
       "      <td>0.047271</td>\n",
       "      <td>0.095106</td>\n",
       "      <td>0.129544</td>\n",
       "      <td>0.167995</td>\n",
       "    </tr>\n",
       "    <tr>\n",
       "      <th>return</th>\n",
       "      <td>240.0</td>\n",
       "      <td>0.005404</td>\n",
       "      <td>2.018364e-03</td>\n",
       "      <td>0.001747</td>\n",
       "      <td>0.004259</td>\n",
       "      <td>0.004937</td>\n",
       "      <td>0.005906</td>\n",
       "      <td>0.010738</td>\n",
       "    </tr>\n",
       "    <tr>\n",
       "      <th>Q</th>\n",
       "      <td>240.0</td>\n",
       "      <td>5.816667</td>\n",
       "      <td>2.663823e+00</td>\n",
       "      <td>2.000000</td>\n",
       "      <td>3.000000</td>\n",
       "      <td>6.000000</td>\n",
       "      <td>8.000000</td>\n",
       "      <td>10.000000</td>\n",
       "    </tr>\n",
       "    <tr>\n",
       "      <th>max_iter</th>\n",
       "      <td>240.0</td>\n",
       "      <td>1000.000000</td>\n",
       "      <td>0.000000e+00</td>\n",
       "      <td>1000.000000</td>\n",
       "      <td>1000.000000</td>\n",
       "      <td>1000.000000</td>\n",
       "      <td>1000.000000</td>\n",
       "      <td>1000.000000</td>\n",
       "    </tr>\n",
       "    <tr>\n",
       "      <th>pop_size</th>\n",
       "      <td>240.0</td>\n",
       "      <td>18.295833</td>\n",
       "      <td>1.150259e+01</td>\n",
       "      <td>1.000000</td>\n",
       "      <td>5.000000</td>\n",
       "      <td>22.000000</td>\n",
       "      <td>30.000000</td>\n",
       "      <td>30.000000</td>\n",
       "    </tr>\n",
       "    <tr>\n",
       "      <th>mem_consider</th>\n",
       "      <td>240.0</td>\n",
       "      <td>0.500000</td>\n",
       "      <td>0.000000e+00</td>\n",
       "      <td>0.500000</td>\n",
       "      <td>0.500000</td>\n",
       "      <td>0.500000</td>\n",
       "      <td>0.500000</td>\n",
       "      <td>0.500000</td>\n",
       "    </tr>\n",
       "    <tr>\n",
       "      <th>pitch_adj</th>\n",
       "      <td>240.0</td>\n",
       "      <td>0.500000</td>\n",
       "      <td>0.000000e+00</td>\n",
       "      <td>0.500000</td>\n",
       "      <td>0.500000</td>\n",
       "      <td>0.500000</td>\n",
       "      <td>0.500000</td>\n",
       "      <td>0.500000</td>\n",
       "    </tr>\n",
       "    <tr>\n",
       "      <th>alpha</th>\n",
       "      <td>240.0</td>\n",
       "      <td>0.100000</td>\n",
       "      <td>1.390679e-17</td>\n",
       "      <td>0.100000</td>\n",
       "      <td>0.100000</td>\n",
       "      <td>0.100000</td>\n",
       "      <td>0.100000</td>\n",
       "      <td>0.100000</td>\n",
       "    </tr>\n",
       "    <tr>\n",
       "      <th>exp_return</th>\n",
       "      <td>240.0</td>\n",
       "      <td>0.002984</td>\n",
       "      <td>1.903099e-03</td>\n",
       "      <td>0.000100</td>\n",
       "      <td>0.001500</td>\n",
       "      <td>0.002800</td>\n",
       "      <td>0.004400</td>\n",
       "      <td>0.009800</td>\n",
       "    </tr>\n",
       "    <tr>\n",
       "      <th>port_n</th>\n",
       "      <td>240.0</td>\n",
       "      <td>1.000000</td>\n",
       "      <td>0.000000e+00</td>\n",
       "      <td>1.000000</td>\n",
       "      <td>1.000000</td>\n",
       "      <td>1.000000</td>\n",
       "      <td>1.000000</td>\n",
       "      <td>1.000000</td>\n",
       "    </tr>\n",
       "    <tr>\n",
       "      <th>k</th>\n",
       "      <td>240.0</td>\n",
       "      <td>5.816667</td>\n",
       "      <td>2.663823e+00</td>\n",
       "      <td>2.000000</td>\n",
       "      <td>3.000000</td>\n",
       "      <td>6.000000</td>\n",
       "      <td>8.000000</td>\n",
       "      <td>10.000000</td>\n",
       "    </tr>\n",
       "    <tr>\n",
       "      <th>seed</th>\n",
       "      <td>0.0</td>\n",
       "      <td>NaN</td>\n",
       "      <td>NaN</td>\n",
       "      <td>NaN</td>\n",
       "      <td>NaN</td>\n",
       "      <td>NaN</td>\n",
       "      <td>NaN</td>\n",
       "      <td>NaN</td>\n",
       "    </tr>\n",
       "    <tr>\n",
       "      <th>last_iter</th>\n",
       "      <td>240.0</td>\n",
       "      <td>1.000000</td>\n",
       "      <td>0.000000e+00</td>\n",
       "      <td>1.000000</td>\n",
       "      <td>1.000000</td>\n",
       "      <td>1.000000</td>\n",
       "      <td>1.000000</td>\n",
       "      <td>1.000000</td>\n",
       "    </tr>\n",
       "  </tbody>\n",
       "</table>\n",
       "</div>"
      ],
      "text/plain": [
       "              count         mean           std          min          25%  \\\n",
       "iter          240.0   969.954167  1.168630e+02   239.000000   999.000000   \n",
       "obj           240.0     0.087490  4.749963e-02     0.003477     0.047271   \n",
       "return        240.0     0.005404  2.018364e-03     0.001747     0.004259   \n",
       "Q             240.0     5.816667  2.663823e+00     2.000000     3.000000   \n",
       "max_iter      240.0  1000.000000  0.000000e+00  1000.000000  1000.000000   \n",
       "pop_size      240.0    18.295833  1.150259e+01     1.000000     5.000000   \n",
       "mem_consider  240.0     0.500000  0.000000e+00     0.500000     0.500000   \n",
       "pitch_adj     240.0     0.500000  0.000000e+00     0.500000     0.500000   \n",
       "alpha         240.0     0.100000  1.390679e-17     0.100000     0.100000   \n",
       "exp_return    240.0     0.002984  1.903099e-03     0.000100     0.001500   \n",
       "port_n        240.0     1.000000  0.000000e+00     1.000000     1.000000   \n",
       "k             240.0     5.816667  2.663823e+00     2.000000     3.000000   \n",
       "seed            0.0          NaN           NaN          NaN          NaN   \n",
       "last_iter     240.0     1.000000  0.000000e+00     1.000000     1.000000   \n",
       "\n",
       "                      50%          75%          max  \n",
       "iter           999.000000   999.000000   999.000000  \n",
       "obj              0.095106     0.129544     0.167995  \n",
       "return           0.004937     0.005906     0.010738  \n",
       "Q                6.000000     8.000000    10.000000  \n",
       "max_iter      1000.000000  1000.000000  1000.000000  \n",
       "pop_size        22.000000    30.000000    30.000000  \n",
       "mem_consider     0.500000     0.500000     0.500000  \n",
       "pitch_adj        0.500000     0.500000     0.500000  \n",
       "alpha            0.100000     0.100000     0.100000  \n",
       "exp_return       0.002800     0.004400     0.009800  \n",
       "port_n           1.000000     1.000000     1.000000  \n",
       "k                6.000000     8.000000    10.000000  \n",
       "seed                  NaN          NaN          NaN  \n",
       "last_iter        1.000000     1.000000     1.000000  "
      ]
     },
     "execution_count": 110,
     "metadata": {},
     "output_type": "execute_result"
    }
   ],
   "source": [
    "best_data.describe().T"
   ]
  },
  {
   "cell_type": "code",
   "execution_count": null,
   "id": "0064f8e1",
   "metadata": {},
   "outputs": [
    {
     "name": "stdout",
     "output_type": "stream",
     "text": [
      "(240, 18)\n"
     ]
    },
    {
     "name": "stderr",
     "output_type": "stream",
     "text": [
      "/var/folders/4s/j92phfsd2cn8533b6sx7q1440000gn/T/ipykernel_46070/3923848381.py:1: SettingWithCopyWarning: \n",
      "A value is trying to be set on a copy of a slice from a DataFrame.\n",
      "Try using .loc[row_indexer,col_indexer] = value instead\n",
      "\n",
      "See the caveats in the documentation: https://pandas.pydata.org/pandas-docs/stable/user_guide/indexing.html#returning-a-view-versus-a-copy\n",
      "  best_data['min_obj'] = best_data.groupby(['exp_return', 'k'], as_index=False)['obj'].transform(min)\n"
     ]
    }
   ],
   "source": [
    "best_data['min_obj'] = best_data.groupby(['exp_return', 'k'], as_index=False)['obj'].transform(min)\n",
    "best_best_data = best_data[best_data.obj==best_data.min_obj]\n",
    "print(best_best_data.shape)"
   ]
  },
  {
   "cell_type": "code",
   "execution_count": null,
   "id": "27134738",
   "metadata": {},
   "outputs": [
    {
     "data": {
      "image/png": "[encoded data removed]",
      "text/plain": [
       "<Figure size 268x216 with 1 Axes>"
      ]
     },
     "metadata": {
      "needs_background": "light"
     },
     "output_type": "display_data"
    }
   ],
   "source": [
    "g = sns.FacetGrid(data=best_best_data[best_best_data.obj<0.01], hue='Q')\n",
    "g.map(sns.scatterplot, 'obj', 'return')\n",
    "g.add_legend()\n",
    "g=g"
   ]
  },
  {
   "cell_type": "code",
   "execution_count": null,
   "id": "34404404",
   "metadata": {},
   "outputs": [
    {
     "data": {
      "text/plain": [
       "Text(0, 0.5, 'mean_return')"
      ]
     },
     "execution_count": 113,
     "metadata": {},
     "output_type": "execute_result"
    },
    {
     "data": {
      "image/png": "[encoded data removed]",
      "text/plain": [
       "<Figure size 432x288 with 1 Axes>"
      ]
     },
     "metadata": {
      "needs_background": "light"
     },
     "output_type": "display_data"
    }
   ],
   "source": [
    "port = 1\n",
    "data = best_best_data\n",
    "data = data[data['obj']<0.005]\n",
    "plt.plot(uef[uef.port==port].var_return, uef[uef.port==port].mean_return)\n",
    "plt.scatter(data.obj, data['return'])\n",
    "plt.xlabel(\"var_return\")\n",
    "plt.ylabel(\"mean_return\")"
   ]
  },
  {
   "cell_type": "code",
   "execution_count": null,
   "id": "c7ac3acc",
   "metadata": {},
   "outputs": [
    {
     "ename": "KeyError",
     "evalue": "'move_str'",
     "output_type": "error",
     "traceback": [
      "\u001b[0;31m---------------------------------------------------------------------------\u001b[0m",
      "\u001b[0;31mKeyError\u001b[0m                                  Traceback (most recent call last)",
      "\u001b[0;32m/var/folders/4s/j92phfsd2cn8533b6sx7q1440000gn/T/ipykernel_46070/4169011283.py\u001b[0m in \u001b[0;36m<module>\u001b[0;34m\u001b[0m\n\u001b[0;32m----> 1\u001b[0;31m \u001b[0mbest_data\u001b[0m\u001b[0;34m.\u001b[0m\u001b[0mgroupby\u001b[0m\u001b[0;34m(\u001b[0m\u001b[0;34m[\u001b[0m\u001b[0;34m'exp_return'\u001b[0m\u001b[0;34m,\u001b[0m \u001b[0;34m'move_str'\u001b[0m\u001b[0;34m,\u001b[0m \u001b[0;34m'selec_str'\u001b[0m\u001b[0;34m]\u001b[0m\u001b[0;34m,\u001b[0m \u001b[0mas_index\u001b[0m\u001b[0;34m=\u001b[0m\u001b[0;32mFalse\u001b[0m\u001b[0;34m)\u001b[0m\u001b[0;34m[\u001b[0m\u001b[0;34m'obj'\u001b[0m\u001b[0;34m]\u001b[0m\u001b[0;31m\\\u001b[0m\u001b[0;34m\u001b[0m\u001b[0;34m\u001b[0m\u001b[0m\n\u001b[0m\u001b[1;32m      2\u001b[0m     \u001b[0;34m.\u001b[0m\u001b[0mcount\u001b[0m\u001b[0;34m(\u001b[0m\u001b[0;34m)\u001b[0m\u001b[0;31m\\\u001b[0m\u001b[0;34m\u001b[0m\u001b[0;34m\u001b[0m\u001b[0m\n\u001b[1;32m      3\u001b[0m     \u001b[0;34m.\u001b[0m\u001b[0mpivot\u001b[0m\u001b[0;34m(\u001b[0m\u001b[0mindex\u001b[0m\u001b[0;34m=\u001b[0m\u001b[0;34m[\u001b[0m\u001b[0;34m'move_str'\u001b[0m\u001b[0;34m,\u001b[0m \u001b[0;34m'selec_str'\u001b[0m\u001b[0;34m]\u001b[0m\u001b[0;34m,\u001b[0m \u001b[0mcolumns\u001b[0m\u001b[0;34m=\u001b[0m\u001b[0;34m'exp_return'\u001b[0m\u001b[0;34m,\u001b[0m \u001b[0mvalues\u001b[0m\u001b[0;34m=\u001b[0m\u001b[0;34m'obj'\u001b[0m\u001b[0;34m)\u001b[0m\u001b[0;34m\u001b[0m\u001b[0;34m\u001b[0m\u001b[0m\n",
      "\u001b[0;32m~/opt/anaconda3/envs/abradee/lib/python3.8/site-packages/pandas/core/frame.py\u001b[0m in \u001b[0;36mgroupby\u001b[0;34m(self, by, axis, level, as_index, sort, group_keys, squeeze, observed, dropna)\u001b[0m\n\u001b[1;32m   7629\u001b[0m         \u001b[0;31m# error: Argument \"squeeze\" to \"DataFrameGroupBy\" has incompatible type\u001b[0m\u001b[0;34m\u001b[0m\u001b[0;34m\u001b[0m\u001b[0;34m\u001b[0m\u001b[0m\n\u001b[1;32m   7630\u001b[0m         \u001b[0;31m# \"Union[bool, NoDefault]\"; expected \"bool\"\u001b[0m\u001b[0;34m\u001b[0m\u001b[0;34m\u001b[0m\u001b[0;34m\u001b[0m\u001b[0m\n\u001b[0;32m-> 7631\u001b[0;31m         return DataFrameGroupBy(\n\u001b[0m\u001b[1;32m   7632\u001b[0m             \u001b[0mobj\u001b[0m\u001b[0;34m=\u001b[0m\u001b[0mself\u001b[0m\u001b[0;34m,\u001b[0m\u001b[0;34m\u001b[0m\u001b[0;34m\u001b[0m\u001b[0m\n\u001b[1;32m   7633\u001b[0m             \u001b[0mkeys\u001b[0m\u001b[0;34m=\u001b[0m\u001b[0mby\u001b[0m\u001b[0;34m,\u001b[0m\u001b[0;34m\u001b[0m\u001b[0;34m\u001b[0m\u001b[0m\n",
      "\u001b[0;32m~/opt/anaconda3/envs/abradee/lib/python3.8/site-packages/pandas/core/groupby/groupby.py\u001b[0m in \u001b[0;36m__init__\u001b[0;34m(self, obj, keys, axis, level, grouper, exclusions, selection, as_index, sort, group_keys, squeeze, observed, mutated, dropna)\u001b[0m\n\u001b[1;32m    887\u001b[0m             \u001b[0;32mfrom\u001b[0m \u001b[0mpandas\u001b[0m\u001b[0;34m.\u001b[0m\u001b[0mcore\u001b[0m\u001b[0;34m.\u001b[0m\u001b[0mgroupby\u001b[0m\u001b[0;34m.\u001b[0m\u001b[0mgrouper\u001b[0m \u001b[0;32mimport\u001b[0m \u001b[0mget_grouper\u001b[0m\u001b[0;34m\u001b[0m\u001b[0;34m\u001b[0m\u001b[0m\n\u001b[1;32m    888\u001b[0m \u001b[0;34m\u001b[0m\u001b[0m\n\u001b[0;32m--> 889\u001b[0;31m             grouper, exclusions, obj = get_grouper(\n\u001b[0m\u001b[1;32m    890\u001b[0m                 \u001b[0mobj\u001b[0m\u001b[0;34m,\u001b[0m\u001b[0;34m\u001b[0m\u001b[0;34m\u001b[0m\u001b[0m\n\u001b[1;32m    891\u001b[0m                 \u001b[0mkeys\u001b[0m\u001b[0;34m,\u001b[0m\u001b[0;34m\u001b[0m\u001b[0;34m\u001b[0m\u001b[0m\n",
      "\u001b[0;32m~/opt/anaconda3/envs/abradee/lib/python3.8/site-packages/pandas/core/groupby/grouper.py\u001b[0m in \u001b[0;36mget_grouper\u001b[0;34m(obj, key, axis, level, sort, observed, mutated, validate, dropna)\u001b[0m\n\u001b[1;32m    860\u001b[0m                 \u001b[0min_axis\u001b[0m\u001b[0;34m,\u001b[0m \u001b[0mlevel\u001b[0m\u001b[0;34m,\u001b[0m \u001b[0mgpr\u001b[0m \u001b[0;34m=\u001b[0m \u001b[0;32mFalse\u001b[0m\u001b[0;34m,\u001b[0m \u001b[0mgpr\u001b[0m\u001b[0;34m,\u001b[0m \u001b[0;32mNone\u001b[0m\u001b[0;34m\u001b[0m\u001b[0;34m\u001b[0m\u001b[0m\n\u001b[1;32m    861\u001b[0m             \u001b[0;32melse\u001b[0m\u001b[0;34m:\u001b[0m\u001b[0;34m\u001b[0m\u001b[0;34m\u001b[0m\u001b[0m\n\u001b[0;32m--> 862\u001b[0;31m                 \u001b[0;32mraise\u001b[0m \u001b[0mKeyError\u001b[0m\u001b[0;34m(\u001b[0m\u001b[0mgpr\u001b[0m\u001b[0;34m)\u001b[0m\u001b[0;34m\u001b[0m\u001b[0;34m\u001b[0m\u001b[0m\n\u001b[0m\u001b[1;32m    863\u001b[0m         \u001b[0;32melif\u001b[0m \u001b[0misinstance\u001b[0m\u001b[0;34m(\u001b[0m\u001b[0mgpr\u001b[0m\u001b[0;34m,\u001b[0m \u001b[0mGrouper\u001b[0m\u001b[0;34m)\u001b[0m \u001b[0;32mand\u001b[0m \u001b[0mgpr\u001b[0m\u001b[0;34m.\u001b[0m\u001b[0mkey\u001b[0m \u001b[0;32mis\u001b[0m \u001b[0;32mnot\u001b[0m \u001b[0;32mNone\u001b[0m\u001b[0;34m:\u001b[0m\u001b[0;34m\u001b[0m\u001b[0;34m\u001b[0m\u001b[0m\n\u001b[1;32m    864\u001b[0m             \u001b[0;31m# Add key to exclusions\u001b[0m\u001b[0;34m\u001b[0m\u001b[0;34m\u001b[0m\u001b[0;34m\u001b[0m\u001b[0m\n",
      "\u001b[0;31mKeyError\u001b[0m: 'move_str'"
     ]
    }
   ],
   "source": [
    "best_data.groupby(['exp_return', 'move_str', 'selec_str'], as_index=False)['obj']\\\n",
    "    .count()\\\n",
    "    .pivot(index=['move_str', 'selec_str'], columns='exp_return', values='obj')"
   ]
  },
  {
   "cell_type": "code",
   "execution_count": null,
   "id": "c7ac3acc",
   "metadata": {},
   "outputs": [
    {
     "data": {
      "text/html": [
       "<div>\n",
       "<style scoped>\n",
       "    .dataframe tbody tr th:only-of-type {\n",
       "        vertical-align: middle;\n",
       "    }\n",
       "\n",
       "    .dataframe tbody tr th {\n",
       "        vertical-align: top;\n",
       "    }\n",
       "\n",
       "    .dataframe thead th {\n",
       "        text-align: right;\n",
       "    }\n",
       "</style>\n",
       "<table border=\"1\" class=\"dataframe\">\n",
       "  <thead>\n",
       "    <tr style=\"text-align: right;\">\n",
       "      <th></th>\n",
       "      <th>Q</th>\n",
       "      <th>2.0</th>\n",
       "      <th>3.0</th>\n",
       "      <th>4.0</th>\n",
       "      <th>5.0</th>\n",
       "      <th>6.0</th>\n",
       "      <th>7.0</th>\n",
       "      <th>8.0</th>\n",
       "      <th>9.0</th>\n",
       "      <th>10.0</th>\n",
       "    </tr>\n",
       "    <tr>\n",
       "      <th>move_str</th>\n",
       "      <th>selec_str</th>\n",
       "      <th></th>\n",
       "      <th></th>\n",
       "      <th></th>\n",
       "      <th></th>\n",
       "      <th></th>\n",
       "      <th></th>\n",
       "      <th></th>\n",
       "      <th></th>\n",
       "      <th></th>\n",
       "    </tr>\n",
       "  </thead>\n",
       "  <tbody>\n",
       "    <tr>\n",
       "      <th rowspan=\"3\" valign=\"top\">TID</th>\n",
       "      <th>best</th>\n",
       "      <td>167</td>\n",
       "      <td>103</td>\n",
       "      <td>114</td>\n",
       "      <td>92</td>\n",
       "      <td>94</td>\n",
       "      <td>112</td>\n",
       "      <td>121</td>\n",
       "      <td>116</td>\n",
       "      <td>42</td>\n",
       "    </tr>\n",
       "    <tr>\n",
       "      <th>first</th>\n",
       "      <td>179</td>\n",
       "      <td>103</td>\n",
       "      <td>110</td>\n",
       "      <td>84</td>\n",
       "      <td>104</td>\n",
       "      <td>107</td>\n",
       "      <td>114</td>\n",
       "      <td>118</td>\n",
       "      <td>46</td>\n",
       "    </tr>\n",
       "    <tr>\n",
       "      <th>random</th>\n",
       "      <td>179</td>\n",
       "      <td>96</td>\n",
       "      <td>111</td>\n",
       "      <td>91</td>\n",
       "      <td>98</td>\n",
       "      <td>120</td>\n",
       "      <td>120</td>\n",
       "      <td>119</td>\n",
       "      <td>43</td>\n",
       "    </tr>\n",
       "    <tr>\n",
       "      <th rowspan=\"3\" valign=\"top\">iDR</th>\n",
       "      <th>best</th>\n",
       "      <td>96</td>\n",
       "      <td>94</td>\n",
       "      <td>106</td>\n",
       "      <td>106</td>\n",
       "      <td>107</td>\n",
       "      <td>110</td>\n",
       "      <td>115</td>\n",
       "      <td>114</td>\n",
       "      <td>119</td>\n",
       "    </tr>\n",
       "    <tr>\n",
       "      <th>first</th>\n",
       "      <td>97</td>\n",
       "      <td>96</td>\n",
       "      <td>102</td>\n",
       "      <td>98</td>\n",
       "      <td>110</td>\n",
       "      <td>107</td>\n",
       "      <td>121</td>\n",
       "      <td>117</td>\n",
       "      <td>121</td>\n",
       "    </tr>\n",
       "    <tr>\n",
       "      <th>random</th>\n",
       "      <td>102</td>\n",
       "      <td>97</td>\n",
       "      <td>109</td>\n",
       "      <td>111</td>\n",
       "      <td>110</td>\n",
       "      <td>115</td>\n",
       "      <td>112</td>\n",
       "      <td>109</td>\n",
       "      <td>124</td>\n",
       "    </tr>\n",
       "    <tr>\n",
       "      <th rowspan=\"3\" valign=\"top\">idID</th>\n",
       "      <th>best</th>\n",
       "      <td>96</td>\n",
       "      <td>99</td>\n",
       "      <td>104</td>\n",
       "      <td>102</td>\n",
       "      <td>109</td>\n",
       "      <td>109</td>\n",
       "      <td>116</td>\n",
       "      <td>114</td>\n",
       "      <td>118</td>\n",
       "    </tr>\n",
       "    <tr>\n",
       "      <th>first</th>\n",
       "      <td>95</td>\n",
       "      <td>85</td>\n",
       "      <td>106</td>\n",
       "      <td>104</td>\n",
       "      <td>103</td>\n",
       "      <td>110</td>\n",
       "      <td>114</td>\n",
       "      <td>119</td>\n",
       "      <td>118</td>\n",
       "    </tr>\n",
       "    <tr>\n",
       "      <th>random</th>\n",
       "      <td>84</td>\n",
       "      <td>95</td>\n",
       "      <td>103</td>\n",
       "      <td>109</td>\n",
       "      <td>108</td>\n",
       "      <td>110</td>\n",
       "      <td>112</td>\n",
       "      <td>113</td>\n",
       "      <td>122</td>\n",
       "    </tr>\n",
       "    <tr>\n",
       "      <th rowspan=\"3\" valign=\"top\">random</th>\n",
       "      <th>best</th>\n",
       "      <td>150</td>\n",
       "      <td>101</td>\n",
       "      <td>100</td>\n",
       "      <td>100</td>\n",
       "      <td>114</td>\n",
       "      <td>115</td>\n",
       "      <td>118</td>\n",
       "      <td>127</td>\n",
       "      <td>42</td>\n",
       "    </tr>\n",
       "    <tr>\n",
       "      <th>first</th>\n",
       "      <td>148</td>\n",
       "      <td>100</td>\n",
       "      <td>103</td>\n",
       "      <td>116</td>\n",
       "      <td>117</td>\n",
       "      <td>116</td>\n",
       "      <td>115</td>\n",
       "      <td>116</td>\n",
       "      <td>46</td>\n",
       "    </tr>\n",
       "    <tr>\n",
       "      <th>random</th>\n",
       "      <td>153</td>\n",
       "      <td>100</td>\n",
       "      <td>109</td>\n",
       "      <td>106</td>\n",
       "      <td>113</td>\n",
       "      <td>108</td>\n",
       "      <td>112</td>\n",
       "      <td>121</td>\n",
       "      <td>43</td>\n",
       "    </tr>\n",
       "  </tbody>\n",
       "</table>\n",
       "</div>"
      ],
      "text/plain": [
       "Q                   2.0   3.0   4.0   5.0   6.0   7.0   8.0   9.0   10.0\n",
       "move_str selec_str                                                      \n",
       "TID      best        167   103   114    92    94   112   121   116    42\n",
       "         first       179   103   110    84   104   107   114   118    46\n",
       "         random      179    96   111    91    98   120   120   119    43\n",
       "iDR      best         96    94   106   106   107   110   115   114   119\n",
       "         first        97    96   102    98   110   107   121   117   121\n",
       "         random      102    97   109   111   110   115   112   109   124\n",
       "idID     best         96    99   104   102   109   109   116   114   118\n",
       "         first        95    85   106   104   103   110   114   119   118\n",
       "         random       84    95   103   109   108   110   112   113   122\n",
       "random   best        150   101   100   100   114   115   118   127    42\n",
       "         first       148   100   103   116   117   116   115   116    46\n",
       "         random      153   100   109   106   113   108   112   121    43"
      ]
     },
     "execution_count": 64,
     "metadata": {},
     "output_type": "execute_result"
    }
   ],
   "source": [
    "best_data.groupby(['Q', 'move_str', 'selec_str'], as_index=False)['obj']\\\n",
    "    .count()\\\n",
    "    .pivot(index=['move_str', 'selec_str'], columns='Q', values='obj')"
   ]
  },
  {
   "cell_type": "code",
   "execution_count": null,
   "id": "70baeeb9",
   "metadata": {},
   "outputs": [
    {
     "data": {
      "text/plain": [
       "Text(0.5, 1.0, 'Retorno vs Risco')"
      ]
     },
     "execution_count": 65,
     "metadata": {},
     "output_type": "execute_result"
    },
    {
     "data": {
      "image/png": "[encoded data removed]",
      "text/plain": [
       "<Figure size 432x288 with 2 Axes>"
      ]
     },
     "metadata": {
      "needs_background": "light"
     },
     "output_type": "display_data"
    }
   ],
   "source": [
    "best_data_pivot = best_data.groupby(['exp_return', 'move_str', 'selec_str'], as_index=False)['obj']\\\n",
    "    .min()\\\n",
    "    .pivot(index=['move_str', 'selec_str'], columns='exp_return', values='obj')\n",
    "\n",
    "sns.heatmap(best_data_pivot)\n",
    "plt.title('Retorno vs Risco')"
   ]
  }
 ],
 "metadata": {
  "interpreter": {
   "hash": "f6cb668b59e4b046a7e38bbc755e07d52764e1df270e17944c28cd2019a15cbc"
  },
  "kernelspec": {
   "display_name": "Python 3.8.12 64-bit ('abradee': conda)",
   "name": "python3"
  },
  "language_info": {
   "codemirror_mode": {
    "name": "ipython",
    "version": 3
   },
   "file_extension": ".py",
   "mimetype": "text/x-python",
   "name": "python",
   "nbconvert_exporter": "python",
   "pygments_lexer": "ipython3",
   "version": "3.8.12"
  }
 },
 "nbformat": 4,
 "nbformat_minor": 5
}
