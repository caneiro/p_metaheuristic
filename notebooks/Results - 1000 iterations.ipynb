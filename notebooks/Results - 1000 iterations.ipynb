{
 "cells": [
  {
   "cell_type": "code",
   "execution_count": 16,
   "id": "77c267f4",
   "metadata": {
    "ExecuteTime": {
     "end_time": "2021-12-15T00:42:01.290700Z",
     "start_time": "2021-12-15T00:41:59.363684Z"
    }
   },
   "outputs": [
    {
     "name": "stdout",
     "output_type": "stream",
     "text": [
      "/Users/rco/OneDrive/ITA/Mestrado/2021_TE-282 - Meta heurísticas/P-MetaHeuristica/p_metaheuristic/data/log\n"
     ]
    }
   ],
   "source": [
    "import numpy as np\n",
    "import pandas as pd\n",
    "pd.set_option('display.max_columns', 999)\n",
    "pd.set_option('display.max_rows', 999)\n",
    "\n",
    "import matplotlib.pyplot as plt\n",
    "import seaborn as sns\n",
    "from pathlib import Path\n",
    "import glob\n",
    "from ast import literal_eval\n",
    "from tqdm.auto import tqdm\n",
    "import ray\n",
    "import os\n",
    "\n",
    "np.random.seed=42\n",
    "\n",
    "PATH = Path.cwd().parent\n",
    "RAW_PATH = Path(PATH, \"./data/raw/\") \n",
    "LOG_PATH = Path(PATH, \"./data/log/\")\n",
    "print(LOG_PATH)\n"
   ]
  },
  {
   "cell_type": "code",
   "execution_count": 17,
   "id": "42c7a346",
   "metadata": {
    "ExecuteTime": {
     "end_time": "2021-12-15T00:42:01.303173Z",
     "start_time": "2021-12-15T00:42:01.294401Z"
    }
   },
   "outputs": [],
   "source": [
    "def read_port_files(n_port):\n",
    "    filepath = Path(RAW_PATH, 'port' + str(n_port) + '.txt')\n",
    "    with open(filepath) as fp:\n",
    "        # quantidade de ativos no portfolio\n",
    "        n_assets = int(fp.readline())\n",
    "        # armazena as estatisticas do ativo\n",
    "        r_mean = []\n",
    "        r_std = []\n",
    "        for n in range(n_assets):\n",
    "            line = fp.readline()\n",
    "            r_mean.append(float(line.strip().split()[0]))\n",
    "            r_std.append(float(line.strip().split()[1]))\n",
    "\n",
    "        # obtem o restante da matriz de covariancia\n",
    "        cnt = 32\n",
    "        i = []\n",
    "        j = []\n",
    "        cov = []\n",
    "        line = fp.readline()\n",
    "        while line:\n",
    "            i.append(int(line.strip().split(' ')[0]))\n",
    "            j.append(int(line.strip().split(' ')[1]))\n",
    "            cov.append(float(line.strip().split(' ')[2]))\n",
    "            line = fp.readline()\n",
    "    fp.close()\n",
    "    # retorna dataframe com estatisticas dos ativos do portfolio\n",
    "    df_stats = pd.DataFrame({'port':n_port,\n",
    "                             'i':[i_+1 for i_ in range(n_assets)],\n",
    "                             'r_mean':r_mean,\n",
    "                             'r_std':r_std})\n",
    "    print(df_stats.shape)\n",
    "\n",
    "    # retorna dataframe com matriz de covariancia dos ativos do portfolio\n",
    "    df_cov_mx = pd.DataFrame({'port':n_port,\n",
    "                             'i':i,\n",
    "                             'j':j,\n",
    "                             'cov':cov})\n",
    "    print(df_cov_mx.shape)\n",
    "    return df_stats, df_cov_mx"
   ]
  },
  {
   "cell_type": "code",
   "execution_count": 18,
   "id": "0b6505d3",
   "metadata": {
    "ExecuteTime": {
     "end_time": "2021-12-15T00:42:01.349833Z",
     "start_time": "2021-12-15T00:42:01.305655Z"
    }
   },
   "outputs": [
    {
     "data": {
      "text/html": [
       "<div>\n",
       "<style scoped>\n",
       "    .dataframe tbody tr th:only-of-type {\n",
       "        vertical-align: middle;\n",
       "    }\n",
       "\n",
       "    .dataframe tbody tr th {\n",
       "        vertical-align: top;\n",
       "    }\n",
       "\n",
       "    .dataframe thead th {\n",
       "        text-align: right;\n",
       "    }\n",
       "</style>\n",
       "<table border=\"1\" class=\"dataframe\">\n",
       "  <thead>\n",
       "    <tr style=\"text-align: right;\">\n",
       "      <th></th>\n",
       "      <th>mean_return</th>\n",
       "      <th>var_return</th>\n",
       "      <th>port</th>\n",
       "      <th>portfolio</th>\n",
       "    </tr>\n",
       "  </thead>\n",
       "  <tbody>\n",
       "    <tr>\n",
       "      <th>0</th>\n",
       "      <td>0.010865</td>\n",
       "      <td>0.004776</td>\n",
       "      <td>1</td>\n",
       "      <td>Hang Seng - Hong Kong</td>\n",
       "    </tr>\n",
       "    <tr>\n",
       "      <th>1</th>\n",
       "      <td>0.010861</td>\n",
       "      <td>0.004768</td>\n",
       "      <td>1</td>\n",
       "      <td>Hang Seng - Hong Kong</td>\n",
       "    </tr>\n",
       "    <tr>\n",
       "      <th>2</th>\n",
       "      <td>0.010857</td>\n",
       "      <td>0.004760</td>\n",
       "      <td>1</td>\n",
       "      <td>Hang Seng - Hong Kong</td>\n",
       "    </tr>\n",
       "    <tr>\n",
       "      <th>3</th>\n",
       "      <td>0.010853</td>\n",
       "      <td>0.004752</td>\n",
       "      <td>1</td>\n",
       "      <td>Hang Seng - Hong Kong</td>\n",
       "    </tr>\n",
       "    <tr>\n",
       "      <th>4</th>\n",
       "      <td>0.010849</td>\n",
       "      <td>0.004745</td>\n",
       "      <td>1</td>\n",
       "      <td>Hang Seng - Hong Kong</td>\n",
       "    </tr>\n",
       "  </tbody>\n",
       "</table>\n",
       "</div>"
      ],
      "text/plain": [
       "   mean_return  var_return  port              portfolio\n",
       "0     0.010865    0.004776     1  Hang Seng - Hong Kong\n",
       "1     0.010861    0.004768     1  Hang Seng - Hong Kong\n",
       "2     0.010857    0.004760     1  Hang Seng - Hong Kong\n",
       "3     0.010853    0.004752     1  Hang Seng - Hong Kong\n",
       "4     0.010849    0.004745     1  Hang Seng - Hong Kong"
      ]
     },
     "execution_count": 18,
     "metadata": {},
     "output_type": "execute_result"
    }
   ],
   "source": [
    "portfolios = {\n",
    "    1:'Hang Seng - Hong Kong',\n",
    "    2:'DAX - German Blue Chips',\n",
    "    3:'FTSE - London',\n",
    "    4:\"S&P - Standard and Poor's 500 - US\",\n",
    "    5:'Nikkei - Tokyo'\n",
    "}\n",
    "\n",
    "uefs = []\n",
    "for port in range(5):\n",
    "    uef = pd.read_csv(Path(RAW_PATH, 'portef' + str(port+1) + '.txt'), header=None, sep='\\s+')\n",
    "    uef.columns = ['mean_return', 'var_return']\n",
    "    uef['port'] = port + 1\n",
    "    uefs.append(uef)\n",
    "uef = pd.concat(uefs, ignore_index=True).reset_index(drop=True)\n",
    "uef['portfolio'] = uef.port.map(portfolios)\n",
    "uef.head()"
   ]
  },
  {
   "cell_type": "code",
   "execution_count": 19,
   "id": "9aada3c5",
   "metadata": {
    "ExecuteTime": {
     "end_time": "2021-12-15T00:42:05.822971Z",
     "start_time": "2021-12-15T00:42:01.353230Z"
    }
   },
   "outputs": [],
   "source": [
    "@ray.remote\n",
    "def import_logs(filename):\n",
    "    try:\n",
    "        file_path = Path(LOG_PATH, filename)\n",
    "        df = pd.read_csv(file_path, low_memory=False)\n",
    "        df['filename'] = filename\n",
    "        df.loc[df[-1:].index, 'last_iter'] = 1\n",
    "    except:\n",
    "        print(filename)\n",
    "\n",
    "    return df\n",
    "\n",
    "futures = [import_logs.remote(filename) for filename in os.listdir(LOG_PATH) if filename != '.DS_Store']\n",
    "dfs = ray.get(futures)\n"
   ]
  },
  {
   "cell_type": "code",
   "execution_count": 20,
   "id": "a37d0d7d",
   "metadata": {
    "ExecuteTime": {
     "end_time": "2021-12-15T00:42:06.174832Z",
     "start_time": "2021-12-15T00:42:05.825623Z"
    }
   },
   "outputs": [
    {
     "name": "stdout",
     "output_type": "stream",
     "text": [
      "(54000, 25)\n",
      "(54, 25)\n"
     ]
    }
   ],
   "source": [
    "all_data = pd.concat(dfs, ignore_index=True)\n",
    "all_data.reset_index(drop=True, inplace=True)\n",
    "print(all_data.shape)\n",
    "best_data = all_data[all_data.last_iter==1]\n",
    "print(best_data.shape)"
   ]
  },
  {
   "cell_type": "code",
   "execution_count": 21,
   "id": "8fbeed9c",
   "metadata": {},
   "outputs": [],
   "source": [
    "all_data = all_data[all_data.k>=7]"
   ]
  },
  {
   "cell_type": "code",
   "execution_count": 22,
   "id": "e86bb426",
   "metadata": {
    "ExecuteTime": {
     "start_time": "2021-12-15T00:41:59.369Z"
    }
   },
   "outputs": [
    {
     "data": {
      "text/plain": [
       "<seaborn.axisgrid.FacetGrid at 0x7f8b1de3f850>"
      ]
     },
     "execution_count": 22,
     "metadata": {},
     "output_type": "execute_result"
    },
    {
     "data": {
      "image/png": "[encoded data removed]",
      "text/plain": [
       "<Figure size 700x648 with 9 Axes>"
      ]
     },
     "metadata": {
      "needs_background": "light"
     },
     "output_type": "display_data"
    }
   ],
   "source": [
    "sns.relplot(data=all_data, x='iter', y='cost', row='mem_size', col='mem_consider', kind='line', height=3, hue='sigma')"
   ]
  }
 ],
 "metadata": {
  "interpreter": {
   "hash": "f6cb668b59e4b046a7e38bbc755e07d52764e1df270e17944c28cd2019a15cbc"
  },
  "kernelspec": {
   "display_name": "Python [conda env:abradee] *",
   "language": "python",
   "name": "python3"
  },
  "language_info": {
   "codemirror_mode": {
    "name": "ipython",
    "version": 3
   },
   "file_extension": ".py",
   "mimetype": "text/x-python",
   "name": "python",
   "nbconvert_exporter": "python",
   "pygments_lexer": "ipython3",
   "version": "3.8.12"
  }
 },
 "nbformat": 4,
 "nbformat_minor": 5
}
